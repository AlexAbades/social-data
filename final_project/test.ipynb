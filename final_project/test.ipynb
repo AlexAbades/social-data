{
 "cells": [
  {
   "cell_type": "code",
   "execution_count": 2,
   "metadata": {},
   "outputs": [],
   "source": [
    "import pandas as pd \n",
    "import numpy as np "
   ]
  },
  {
   "cell_type": "code",
   "execution_count": 3,
   "metadata": {},
   "outputs": [
    {
     "name": "stderr",
     "output_type": "stream",
     "text": [
      "/tmp/ipykernel_898/1201880064.py:1: DtypeWarning: Columns (3) have mixed types. Specify dtype option on import or set low_memory=False.\n",
      "  data_all = pd.read_csv(\"../data/Motor_Vehicle_Collisions_-_Crashes.csv\")\n"
     ]
    }
   ],
   "source": [
    "data_all = pd.read_csv(\"../data/Motor_Vehicle_Collisions_-_Crashes.csv\") "
   ]
  },
  {
   "cell_type": "code",
   "execution_count": 4,
   "metadata": {},
   "outputs": [
    {
     "data": {
      "text/plain": [
       "57506130"
      ]
     },
     "execution_count": 4,
     "metadata": {},
     "output_type": "execute_result"
    }
   ],
   "source": [
    "data_all.size"
   ]
  },
  {
   "cell_type": "code",
   "execution_count": 6,
   "metadata": {},
   "outputs": [
    {
     "name": "stdout",
     "output_type": "stream",
     "text": [
      "<class 'pandas.core.frame.DataFrame'>\n",
      "RangeIndex: 1982970 entries, 0 to 1982969\n",
      "Data columns (total 29 columns):\n",
      " #   Column                         Dtype  \n",
      "---  ------                         -----  \n",
      " 0   CRASH DATE                     object \n",
      " 1   CRASH TIME                     object \n",
      " 2   BOROUGH                        object \n",
      " 3   ZIP CODE                       object \n",
      " 4   LATITUDE                       float64\n",
      " 5   LONGITUDE                      float64\n",
      " 6   LOCATION                       object \n",
      " 7   ON STREET NAME                 object \n",
      " 8   CROSS STREET NAME              object \n",
      " 9   OFF STREET NAME                object \n",
      " 10  NUMBER OF PERSONS INJURED      float64\n",
      " 11  NUMBER OF PERSONS KILLED       float64\n",
      " 12  NUMBER OF PEDESTRIANS INJURED  int64  \n",
      " 13  NUMBER OF PEDESTRIANS KILLED   int64  \n",
      " 14  NUMBER OF CYCLIST INJURED      int64  \n",
      " 15  NUMBER OF CYCLIST KILLED       int64  \n",
      " 16  NUMBER OF MOTORIST INJURED     int64  \n",
      " 17  NUMBER OF MOTORIST KILLED      int64  \n",
      " 18  CONTRIBUTING FACTOR VEHICLE 1  object \n",
      " 19  CONTRIBUTING FACTOR VEHICLE 2  object \n",
      " 20  CONTRIBUTING FACTOR VEHICLE 3  object \n",
      " 21  CONTRIBUTING FACTOR VEHICLE 4  object \n",
      " 22  CONTRIBUTING FACTOR VEHICLE 5  object \n",
      " 23  COLLISION_ID                   int64  \n",
      " 24  VEHICLE TYPE CODE 1            object \n",
      " 25  VEHICLE TYPE CODE 2            object \n",
      " 26  VEHICLE TYPE CODE 3            object \n",
      " 27  VEHICLE TYPE CODE 4            object \n",
      " 28  VEHICLE TYPE CODE 5            object \n",
      "dtypes: float64(4), int64(7), object(18)\n",
      "memory usage: 438.7+ MB\n"
     ]
    }
   ],
   "source": [
    "data_all.info()"
   ]
  },
  {
   "cell_type": "code",
   "execution_count": 7,
   "metadata": {},
   "outputs": [
    {
     "data": {
      "text/plain": [
       "Index                                 128\n",
       "CRASH DATE                       15863760\n",
       "CRASH TIME                       15863760\n",
       "BOROUGH                          15863760\n",
       "ZIP CODE                         15863760\n",
       "LATITUDE                         15863760\n",
       "LONGITUDE                        15863760\n",
       "LOCATION                         15863760\n",
       "ON STREET NAME                   15863760\n",
       "CROSS STREET NAME                15863760\n",
       "OFF STREET NAME                  15863760\n",
       "NUMBER OF PERSONS INJURED        15863760\n",
       "NUMBER OF PERSONS KILLED         15863760\n",
       "NUMBER OF PEDESTRIANS INJURED    15863760\n",
       "NUMBER OF PEDESTRIANS KILLED     15863760\n",
       "NUMBER OF CYCLIST INJURED        15863760\n",
       "NUMBER OF CYCLIST KILLED         15863760\n",
       "NUMBER OF MOTORIST INJURED       15863760\n",
       "NUMBER OF MOTORIST KILLED        15863760\n",
       "CONTRIBUTING FACTOR VEHICLE 1    15863760\n",
       "CONTRIBUTING FACTOR VEHICLE 2    15863760\n",
       "CONTRIBUTING FACTOR VEHICLE 3    15863760\n",
       "CONTRIBUTING FACTOR VEHICLE 4    15863760\n",
       "CONTRIBUTING FACTOR VEHICLE 5    15863760\n",
       "COLLISION_ID                     15863760\n",
       "VEHICLE TYPE CODE 1              15863760\n",
       "VEHICLE TYPE CODE 2              15863760\n",
       "VEHICLE TYPE CODE 3              15863760\n",
       "VEHICLE TYPE CODE 4              15863760\n",
       "VEHICLE TYPE CODE 5              15863760\n",
       "dtype: int64"
      ]
     },
     "execution_count": 7,
     "metadata": {},
     "output_type": "execute_result"
    }
   ],
   "source": [
    "data_all.memory_usage()"
   ]
  },
  {
   "cell_type": "code",
   "execution_count": 9,
   "metadata": {},
   "outputs": [
    {
     "name": "stdout",
     "output_type": "stream",
     "text": [
      "nan\n",
      "BROOKLYN\n",
      "BRONX\n",
      "MANHATTAN\n",
      "QUEENS\n",
      "STATEN ISLAND\n"
     ]
    }
   ],
   "source": [
    "for i in data_all.BOROUGH.unique():\n",
    "    print(i)"
   ]
  },
  {
   "cell_type": "code",
   "execution_count": 11,
   "metadata": {},
   "outputs": [],
   "source": [
    "# import necessary libraries\n",
    "from bokeh.io import output_file, show\n",
    "from bokeh.models import ColumnDataSource, HoverTool\n",
    "from bokeh.palettes import Category10\n",
    "from bokeh.plotting import figure\n",
    "from bokeh.tile_providers import get_provider, Vendors\n"
   ]
  },
  {
   "cell_type": "code",
   "execution_count": 12,
   "metadata": {},
   "outputs": [
    {
     "name": "stderr",
     "output_type": "stream",
     "text": [
      "BokehUserWarning: ColumnDataSource's columns must be of the same length. Current lengths: ('district', 5), ('lat', 2), ('lon', 3)\n",
      "BokehDeprecationWarning: 'get_provider' was deprecated in Bokeh 3.0.0 and will be removed, use 'add_tile directly' instead.\n"
     ]
    },
    {
     "ename": "RuntimeError",
     "evalue": "\n\nExpected line_color, fill_color and hatch_color to reference fields in the supplied data source.\n\nWhen a 'source' argument is passed to a glyph method, values that are sequences\n(like lists or arrays) must come from references to data columns in the source.\n\nFor instance, as an example:\n\n    source = ColumnDataSource(data=dict(x=a_list, y=an_array))\n\n    p.circle(x='x', y='y', source=source, ...) # pass column names and a source\n\nAlternatively, *all* data sequences may be provided as literals as long as a\nsource is *not* provided:\n\n    p.circle(x=a_list, y=an_array, ...)  # pass actual sequences and no source\n\n",
     "output_type": "error",
     "traceback": [
      "\u001b[0;31m---------------------------------------------------------------------------\u001b[0m",
      "\u001b[0;31mRuntimeError\u001b[0m                              Traceback (most recent call last)",
      "Cell \u001b[0;32mIn[12], line 32\u001b[0m\n\u001b[1;32m     29\u001b[0m p\u001b[39m.\u001b[39mtoolbar_location \u001b[39m=\u001b[39m \u001b[39m'\u001b[39m\u001b[39mabove\u001b[39m\u001b[39m'\u001b[39m\n\u001b[1;32m     31\u001b[0m \u001b[39m# plot the districts as circles\u001b[39;00m\n\u001b[0;32m---> 32\u001b[0m p\u001b[39m.\u001b[39;49mcircle(x\u001b[39m=\u001b[39;49m\u001b[39m'\u001b[39;49m\u001b[39mlon\u001b[39;49m\u001b[39m'\u001b[39;49m, y\u001b[39m=\u001b[39;49m\u001b[39m'\u001b[39;49m\u001b[39mlat\u001b[39;49m\u001b[39m'\u001b[39;49m, size\u001b[39m=\u001b[39;49m\u001b[39m10\u001b[39;49m, color\u001b[39m=\u001b[39;49mCategory10[\u001b[39mlen\u001b[39;49m(districts)],\n\u001b[1;32m     33\u001b[0m          source\u001b[39m=\u001b[39;49msource, legend_label\u001b[39m=\u001b[39;49m\u001b[39m'\u001b[39;49m\u001b[39mdistrict\u001b[39;49m\u001b[39m'\u001b[39;49m)\n\u001b[1;32m     35\u001b[0m \u001b[39m# add hover tooltips\u001b[39;00m\n\u001b[1;32m     36\u001b[0m hover \u001b[39m=\u001b[39m HoverTool()\n",
      "File \u001b[0;32m~/anaconda3/envs/project/lib/python3.8/site-packages/bokeh/plotting/_decorators.py:87\u001b[0m, in \u001b[0;36mglyph_method.<locals>.decorator.<locals>.wrapped\u001b[0;34m(self, *args, **kwargs)\u001b[0m\n\u001b[1;32m     85\u001b[0m \u001b[39mif\u001b[39;00m \u001b[39mself\u001b[39m\u001b[39m.\u001b[39mcoordinates \u001b[39mis\u001b[39;00m \u001b[39mnot\u001b[39;00m \u001b[39mNone\u001b[39;00m:\n\u001b[1;32m     86\u001b[0m     kwargs\u001b[39m.\u001b[39msetdefault(\u001b[39m\"\u001b[39m\u001b[39mcoordinates\u001b[39m\u001b[39m\"\u001b[39m, \u001b[39mself\u001b[39m\u001b[39m.\u001b[39mcoordinates)\n\u001b[0;32m---> 87\u001b[0m \u001b[39mreturn\u001b[39;00m create_renderer(glyphclass, \u001b[39mself\u001b[39;49m\u001b[39m.\u001b[39;49mplot, \u001b[39m*\u001b[39;49m\u001b[39m*\u001b[39;49mkwargs)\n",
      "File \u001b[0;32m~/anaconda3/envs/project/lib/python3.8/site-packages/bokeh/plotting/_renderer.py:93\u001b[0m, in \u001b[0;36mcreate_renderer\u001b[0;34m(glyphclass, plot, **kwargs)\u001b[0m\n\u001b[1;32m     91\u001b[0m incompatible_literal_spec_values \u001b[39m+\u001b[39m\u001b[39m=\u001b[39m _process_sequence_literals(glyphclass, glyph_visuals, source, is_user_source)\n\u001b[1;32m     92\u001b[0m \u001b[39mif\u001b[39;00m incompatible_literal_spec_values:\n\u001b[0;32m---> 93\u001b[0m     \u001b[39mraise\u001b[39;00m \u001b[39mRuntimeError\u001b[39;00m(_GLYPH_SOURCE_MSG \u001b[39m%\u001b[39m nice_join(incompatible_literal_spec_values, conjuction\u001b[39m=\u001b[39m\u001b[39m\"\u001b[39m\u001b[39mand\u001b[39m\u001b[39m\"\u001b[39m))\n\u001b[1;32m     95\u001b[0m \u001b[39m# handle the nonselection glyph, we always set one\u001b[39;00m\n\u001b[1;32m     96\u001b[0m nonselection_visuals \u001b[39m=\u001b[39m pop_visuals(glyphclass, kwargs, prefix\u001b[39m=\u001b[39m\u001b[39m'\u001b[39m\u001b[39mnonselection_\u001b[39m\u001b[39m'\u001b[39m, defaults\u001b[39m=\u001b[39mglyph_visuals, override_defaults\u001b[39m=\u001b[39m{\u001b[39m'\u001b[39m\u001b[39malpha\u001b[39m\u001b[39m'\u001b[39m:\u001b[39m0.1\u001b[39m})\n",
      "\u001b[0;31mRuntimeError\u001b[0m: \n\nExpected line_color, fill_color and hatch_color to reference fields in the supplied data source.\n\nWhen a 'source' argument is passed to a glyph method, values that are sequences\n(like lists or arrays) must come from references to data columns in the source.\n\nFor instance, as an example:\n\n    source = ColumnDataSource(data=dict(x=a_list, y=an_array))\n\n    p.circle(x='x', y='y', source=source, ...) # pass column names and a source\n\nAlternatively, *all* data sequences may be provided as literals as long as a\nsource is *not* provided:\n\n    p.circle(x=a_list, y=an_array, ...)  # pass actual sequences and no source\n\n"
     ]
    }
   ],
   "source": [
    "\n",
    "# define map center and zoom level\n",
    "map_center = [-74.0060, 40.7128]\n",
    "zoom_level = 10\n",
    "\n",
    "# define data for the districts\n",
    "districts = {\n",
    "    'BROOKLYN': [-73.9442, 40.6782],\n",
    "    'BRONX': [-73.8648, 40.8448],\n",
    "    'MANHATTAN': [-73.9712, 40.7831],\n",
    "    'QUEENS': [-73.8317, 40.7033],\n",
    "    'STATEN ISLAND': [-74.1538, 40.5795]\n",
    "}\n",
    "\n",
    "# create a column data source\n",
    "source = ColumnDataSource(data=dict(\n",
    "    district=list(districts.keys()),\n",
    "    lon=list(districts.values())[0::2],\n",
    "    lat=list(districts.values())[1::2]\n",
    "))\n",
    "\n",
    "# create the map figure\n",
    "tile_provider = get_provider(Vendors.CARTODBPOSITRON)\n",
    "p = figure(x_range=(map_center[0]-0.5, map_center[0]+0.5),\n",
    "           y_range=(map_center[1]-0.5, map_center[1]+0.5),\n",
    "           x_axis_type=\"mercator\", y_axis_type=\"mercator\",\n",
    "           tools=['wheel_zoom', 'pan', 'reset', 'save'])\n",
    "p.add_tile(tile_provider)\n",
    "p.toolbar.logo = None\n",
    "p.toolbar_location = 'above'\n",
    "\n",
    "# plot the districts as circles\n",
    "p.circle(x='lon', y='lat', size=10, color=Category10[len(districts)],\n",
    "         source=source, legend_label='district')\n",
    "\n",
    "# add hover tooltips\n",
    "hover = HoverTool()\n",
    "hover.tooltips = [('district', '@district')]\n",
    "p.add_tools(hover)\n",
    "\n",
    "# show the plot\n",
    "output_file(\"districts.html\")\n",
    "show(p)\n"
   ]
  },
  {
   "cell_type": "code",
   "execution_count": null,
   "metadata": {},
   "outputs": [],
   "source": []
  },
  {
   "cell_type": "code",
   "execution_count": null,
   "metadata": {},
   "outputs": [],
   "source": []
  },
  {
   "cell_type": "code",
   "execution_count": 15,
   "metadata": {},
   "outputs": [
    {
     "name": "stderr",
     "output_type": "stream",
     "text": [
      "BokehUserWarning: ColumnDataSource's columns must be of the same length. Current lengths: ('district', 5), ('lat', 2), ('lon', 3)\n"
     ]
    },
    {
     "ename": "RuntimeError",
     "evalue": "\n\nExpected line_color, fill_color and hatch_color to reference fields in the supplied data source.\n\nWhen a 'source' argument is passed to a glyph method, values that are sequences\n(like lists or arrays) must come from references to data columns in the source.\n\nFor instance, as an example:\n\n    source = ColumnDataSource(data=dict(x=a_list, y=an_array))\n\n    p.circle(x='x', y='y', source=source, ...) # pass column names and a source\n\nAlternatively, *all* data sequences may be provided as literals as long as a\nsource is *not* provided:\n\n    p.circle(x=a_list, y=an_array, ...)  # pass actual sequences and no source\n\n",
     "output_type": "error",
     "traceback": [
      "\u001b[0;31m---------------------------------------------------------------------------\u001b[0m",
      "\u001b[0;31mRuntimeError\u001b[0m                              Traceback (most recent call last)",
      "Cell \u001b[0;32mIn[15], line 30\u001b[0m\n\u001b[1;32m     27\u001b[0m p\u001b[39m.\u001b[39myaxis\u001b[39m.\u001b[39maxis_label \u001b[39m=\u001b[39m \u001b[39m\"\u001b[39m\u001b[39mLatitude\u001b[39m\u001b[39m\"\u001b[39m\n\u001b[1;32m     29\u001b[0m \u001b[39m# plot the districts as circles\u001b[39;00m\n\u001b[0;32m---> 30\u001b[0m p\u001b[39m.\u001b[39;49mcircle(x\u001b[39m=\u001b[39;49m\u001b[39m'\u001b[39;49m\u001b[39mlon\u001b[39;49m\u001b[39m'\u001b[39;49m, y\u001b[39m=\u001b[39;49m\u001b[39m'\u001b[39;49m\u001b[39mlat\u001b[39;49m\u001b[39m'\u001b[39;49m, size\u001b[39m=\u001b[39;49m\u001b[39m10\u001b[39;49m, color\u001b[39m=\u001b[39;49mCategory10[\u001b[39mlen\u001b[39;49m(districts)],\n\u001b[1;32m     31\u001b[0m          source\u001b[39m=\u001b[39;49msource, legend_label\u001b[39m=\u001b[39;49m\u001b[39m'\u001b[39;49m\u001b[39mdistrict\u001b[39;49m\u001b[39m'\u001b[39;49m)\n\u001b[1;32m     33\u001b[0m \u001b[39m# add hover tooltips\u001b[39;00m\n\u001b[1;32m     34\u001b[0m hover \u001b[39m=\u001b[39m HoverTool()\n",
      "File \u001b[0;32m~/anaconda3/envs/project/lib/python3.8/site-packages/bokeh/plotting/_decorators.py:87\u001b[0m, in \u001b[0;36mglyph_method.<locals>.decorator.<locals>.wrapped\u001b[0;34m(self, *args, **kwargs)\u001b[0m\n\u001b[1;32m     85\u001b[0m \u001b[39mif\u001b[39;00m \u001b[39mself\u001b[39m\u001b[39m.\u001b[39mcoordinates \u001b[39mis\u001b[39;00m \u001b[39mnot\u001b[39;00m \u001b[39mNone\u001b[39;00m:\n\u001b[1;32m     86\u001b[0m     kwargs\u001b[39m.\u001b[39msetdefault(\u001b[39m\"\u001b[39m\u001b[39mcoordinates\u001b[39m\u001b[39m\"\u001b[39m, \u001b[39mself\u001b[39m\u001b[39m.\u001b[39mcoordinates)\n\u001b[0;32m---> 87\u001b[0m \u001b[39mreturn\u001b[39;00m create_renderer(glyphclass, \u001b[39mself\u001b[39;49m\u001b[39m.\u001b[39;49mplot, \u001b[39m*\u001b[39;49m\u001b[39m*\u001b[39;49mkwargs)\n",
      "File \u001b[0;32m~/anaconda3/envs/project/lib/python3.8/site-packages/bokeh/plotting/_renderer.py:93\u001b[0m, in \u001b[0;36mcreate_renderer\u001b[0;34m(glyphclass, plot, **kwargs)\u001b[0m\n\u001b[1;32m     91\u001b[0m incompatible_literal_spec_values \u001b[39m+\u001b[39m\u001b[39m=\u001b[39m _process_sequence_literals(glyphclass, glyph_visuals, source, is_user_source)\n\u001b[1;32m     92\u001b[0m \u001b[39mif\u001b[39;00m incompatible_literal_spec_values:\n\u001b[0;32m---> 93\u001b[0m     \u001b[39mraise\u001b[39;00m \u001b[39mRuntimeError\u001b[39;00m(_GLYPH_SOURCE_MSG \u001b[39m%\u001b[39m nice_join(incompatible_literal_spec_values, conjuction\u001b[39m=\u001b[39m\u001b[39m\"\u001b[39m\u001b[39mand\u001b[39m\u001b[39m\"\u001b[39m))\n\u001b[1;32m     95\u001b[0m \u001b[39m# handle the nonselection glyph, we always set one\u001b[39;00m\n\u001b[1;32m     96\u001b[0m nonselection_visuals \u001b[39m=\u001b[39m pop_visuals(glyphclass, kwargs, prefix\u001b[39m=\u001b[39m\u001b[39m'\u001b[39m\u001b[39mnonselection_\u001b[39m\u001b[39m'\u001b[39m, defaults\u001b[39m=\u001b[39mglyph_visuals, override_defaults\u001b[39m=\u001b[39m{\u001b[39m'\u001b[39m\u001b[39malpha\u001b[39m\u001b[39m'\u001b[39m:\u001b[39m0.1\u001b[39m})\n",
      "\u001b[0;31mRuntimeError\u001b[0m: \n\nExpected line_color, fill_color and hatch_color to reference fields in the supplied data source.\n\nWhen a 'source' argument is passed to a glyph method, values that are sequences\n(like lists or arrays) must come from references to data columns in the source.\n\nFor instance, as an example:\n\n    source = ColumnDataSource(data=dict(x=a_list, y=an_array))\n\n    p.circle(x='x', y='y', source=source, ...) # pass column names and a source\n\nAlternatively, *all* data sequences may be provided as literals as long as a\nsource is *not* provided:\n\n    p.circle(x=a_list, y=an_array, ...)  # pass actual sequences and no source\n\n"
     ]
    }
   ],
   "source": [
    "# import necessary libraries\n",
    "from bokeh.io import output_file, show\n",
    "from bokeh.models import ColumnDataSource, HoverTool\n",
    "from bokeh.palettes import Category10\n",
    "from bokeh.plotting import figure\n",
    "\n",
    "# define data for the districts\n",
    "districts = {\n",
    "    'BROOKLYN': [-73.9442, 40.6782],\n",
    "    'BRONX': [-73.8648, 40.8448],\n",
    "    'MANHATTAN': [-73.9712, 40.7831],\n",
    "    'QUEENS': [-73.8317, 40.7033],\n",
    "    'STATEN ISLAND': [-74.1538, 40.5795]\n",
    "}\n",
    "\n",
    "# create a column data source\n",
    "source = ColumnDataSource(data=dict(\n",
    "    district=list(districts.keys()),\n",
    "    lon=list(districts.values())[0::2],\n",
    "    lat=list(districts.values())[1::2]\n",
    "))\n",
    "\n",
    "# create the map figure\n",
    "p = figure(x_range=(-74.3, -73.7), y_range=(40.5, 41.0), tools=['wheel_zoom', 'pan', 'reset', 'save'])\n",
    "p.title.text = \"New York City Districts\"\n",
    "p.xaxis.axis_label = \"Longitude\"\n",
    "p.yaxis.axis_label = \"Latitude\"\n",
    "\n",
    "# plot the districts as circles\n",
    "p.circle(x='lon', y='lat', size=10, color=Category10[len(districts)],\n",
    "         source=source, legend_label='district')\n",
    "\n",
    "# add hover tooltips\n",
    "hover = HoverTool()\n",
    "hover.tooltips = [('district', '@district')]\n",
    "p.add_tools(hover)\n",
    "\n",
    "# show the plot\n",
    "output_file(\"districts.html\")\n",
    "show(p)\n"
   ]
  },
  {
   "cell_type": "code",
   "execution_count": 16,
   "metadata": {},
   "outputs": [
    {
     "name": "stderr",
     "output_type": "stream",
     "text": [
      "BokehUserWarning: ColumnDataSource's columns must be of the same length. Current lengths: ('district', 5), ('lat', 2), ('lon', 3)\n"
     ]
    }
   ],
   "source": [
    "# import necessary libraries\n",
    "from bokeh.io import output_file, show\n",
    "from bokeh.models import ColumnDataSource, HoverTool\n",
    "from bokeh.palettes import Category10\n",
    "from bokeh.plotting import figure\n",
    "\n",
    "# define data for the districts\n",
    "districts = {\n",
    "    'BROOKLYN': [-73.9442, 40.6782],\n",
    "    'BRONX': [-73.8648, 40.8448],\n",
    "    'MANHATTAN': [-73.9712, 40.7831],\n",
    "    'QUEENS': [-73.8317, 40.7033],\n",
    "    'STATEN ISLAND': [-74.1538, 40.5795]\n",
    "}\n",
    "\n",
    "# create a column data source\n",
    "source = ColumnDataSource(data=dict(\n",
    "    district=list(districts.keys()),\n",
    "    lon=list(districts.values())[0::2],\n",
    "    lat=list(districts.values())[1::2]\n",
    "))\n",
    "\n",
    "# create the map figure\n",
    "p = figure(x_range=(-74.3, -73.7), y_range=(40.5, 41.0), tools=['wheel_zoom', 'pan', 'reset', 'save'])\n",
    "p.title.text = \"New York City Districts\"\n",
    "p.xaxis.axis_label = \"Longitude\"\n",
    "p.yaxis.axis_label = \"Latitude\"\n",
    "\n",
    "# plot the districts as circles\n",
    "p.circle(x='lon', y='lat', size=10, color=Category10[len(districts)],\n",
    "         source=source, legend_label='district', line_color='black', fill_color='white', hatch_color='black', hatch_alpha=0.5)\n",
    "\n",
    "# add hover tooltips\n",
    "hover = HoverTool()\n",
    "hover.tooltips = [('district', '@district')]\n",
    "p.add_tools(hover)\n",
    "\n",
    "# show the plot\n",
    "output_file(\"districts.html\")\n",
    "show(p)\n"
   ]
  },
  {
   "cell_type": "code",
   "execution_count": 17,
   "metadata": {},
   "outputs": [
    {
     "name": "stderr",
     "output_type": "stream",
     "text": [
      "BokehDeprecationWarning: 'get_provider' was deprecated in Bokeh 3.0.0 and will be removed, use 'add_tile directly' instead.\n"
     ]
    }
   ],
   "source": [
    "from bokeh.plotting import figure, output_file, show\n",
    "from bokeh.tile_providers import get_provider, Vendors\n",
    "\n",
    "# Define the center of the map and zoom level\n",
    "brooklyn_center = [-73.9442, 40.6782]\n",
    "zoom_level = 12\n",
    "\n",
    "# Define the tile provider\n",
    "tile_provider = get_provider(Vendors.CARTODBPOSITRON_RETINA)\n",
    "\n",
    "# Create the plot\n",
    "output_file(\"brooklyn_map.html\")\n",
    "p = figure(x_range=(brooklyn_center[0]-0.2, brooklyn_center[0]+0.2),\n",
    "           y_range=(brooklyn_center[1]-0.2, brooklyn_center[1]+0.2),\n",
    "           x_axis_type=\"mercator\", y_axis_type=\"mercator\",\n",
    "           sizing_mode='stretch_both')\n",
    "p.add_tile(tile_provider)\n",
    "\n",
    "# Show the plot\n",
    "show(p)\n"
   ]
  },
  {
   "cell_type": "code",
   "execution_count": 18,
   "metadata": {},
   "outputs": [
    {
     "name": "stderr",
     "output_type": "stream",
     "text": [
      "BokehDeprecationWarning: 'get_provider' was deprecated in Bokeh 3.0.0 and will be removed, use 'add_tile directly' instead.\n"
     ]
    }
   ],
   "source": [
    "from bokeh.plotting import figure, show, output_file\n",
    "from bokeh.tile_providers import get_provider, Vendors\n",
    "\n",
    "output_file(\"tile.html\")\n",
    "\n",
    "tile_provider = get_provider(Vendors.CARTODBPOSITRON)\n",
    "\n",
    "# range bounds supplied in web mercator coordinates\n",
    "p = figure(x_range=(-2000000, 6000000), y_range=(-1000000, 7000000),\n",
    "           x_axis_type=\"mercator\", y_axis_type=\"mercator\")\n",
    "p.add_tile(tile_provider)\n",
    "\n",
    "show(p)"
   ]
  },
  {
   "cell_type": "code",
   "execution_count": 19,
   "metadata": {},
   "outputs": [],
   "source": [
    "from bokeh.io import output_file, show\n",
    "from bokeh.models import ColumnDataSource, GMapOptions\n",
    "from bokeh.plotting import gmap\n",
    "\n",
    "output_file(\"gmap.html\")\n",
    "\n",
    "map_options = GMapOptions(lat=30.2861, lng=-97.7394, map_type=\"roadmap\", zoom=11)\n",
    "\n",
    "# For GMaps to function, Google requires you obtain and enable an API key:\n",
    "#\n",
    "#     https://developers.google.com/maps/documentation/javascript/get-api-key\n",
    "#\n",
    "# Replace the value below with your personal API key:\n",
    "p = gmap(\"GOOGLE_API_KEY\", map_options, title=\"Austin\")\n",
    "\n",
    "source = ColumnDataSource(\n",
    "    data=dict(lat=[ 30.29,  30.20,  30.29],\n",
    "              lon=[-97.70, -97.74, -97.78])\n",
    ")\n",
    "\n",
    "p.circle(x=\"lon\", y=\"lat\", size=15, fill_color=\"blue\", fill_alpha=0.8, source=source)\n",
    "\n",
    "show(p)"
   ]
  },
  {
   "cell_type": "code",
   "execution_count": 20,
   "metadata": {},
   "outputs": [],
   "source": [
    "from bokeh.io import output_file, show\n",
    "from bokeh.models import ColumnDataSource, GMapOptions\n",
    "from bokeh.plotting import gmap\n",
    "\n",
    "output_file(\"brooklyn_gmap.html\")\n",
    "\n",
    "map_options = GMapOptions(lat=40.6782, lng=-73.9442, map_type=\"roadmap\", zoom=12)\n",
    "\n",
    "# For GMaps to function, Google requires you obtain and enable an API key:\n",
    "#\n",
    "#     https://developers.google.com/maps/documentation/javascript/get-api-key\n",
    "#\n",
    "# Replace the value below with your personal API key:\n",
    "p = gmap(\"GOOGLE_API_KEY\", map_options, title=\"Brooklyn\")\n",
    "\n",
    "source = ColumnDataSource(\n",
    "    data=dict(lat=[40.6872, 40.6451, 40.6782],\n",
    "              lon=[-73.9796, -73.9451, -73.9442])\n",
    ")\n",
    "\n",
    "p.circle(x=\"lon\", y=\"lat\", size=15, fill_color=\"blue\", fill_alpha=0.8, source=source)\n",
    "\n",
    "show(p)\n"
   ]
  },
  {
   "cell_type": "code",
   "execution_count": 21,
   "metadata": {},
   "outputs": [
    {
     "name": "stderr",
     "output_type": "stream",
     "text": [
      "BokehDeprecationWarning: 'get_provider' was deprecated in Bokeh 3.0.0 and will be removed, use 'add_tile directly' instead.\n"
     ]
    }
   ],
   "source": [
    "from bokeh.plotting import figure, show, output_file\n",
    "from bokeh.tile_providers import get_provider, Vendors\n",
    "\n",
    "output_file(\"brooklyn_tile.html\")\n",
    "\n",
    "tile_provider = get_provider(Vendors.CARTODBPOSITRON)\n",
    "\n",
    "# range bounds supplied in web mercator coordinates for Brooklyn\n",
    "p = figure(x_range=(-8242000, -8218000), y_range=(4950000, 4978000),\n",
    "           x_axis_type=\"mercator\", y_axis_type=\"mercator\")\n",
    "p.add_tile(tile_provider)\n",
    "\n",
    "show(p)\n"
   ]
  },
  {
   "cell_type": "code",
   "execution_count": 34,
   "metadata": {},
   "outputs": [
    {
     "name": "stdout",
     "output_type": "stream",
     "text": [
      "Collecting pyproj\n",
      "  Downloading pyproj-3.5.0-cp38-cp38-manylinux_2_17_x86_64.manylinux2014_x86_64.whl (7.8 MB)\n",
      "\u001b[2K     \u001b[90m━━━━━━━━━━━━━━━━━━━━━━━━━━━━━━━━━━━━━━━━\u001b[0m \u001b[32m7.8/7.8 MB\u001b[0m \u001b[31m34.8 MB/s\u001b[0m eta \u001b[36m0:00:00\u001b[0m00:01\u001b[0m00:01\u001b[0m\n",
      "\u001b[?25hRequirement already satisfied: certifi in /home/alexabades/anaconda3/envs/project/lib/python3.8/site-packages (from pyproj) (2022.12.7)\n",
      "Installing collected packages: pyproj\n",
      "Successfully installed pyproj-3.5.0\n"
     ]
    }
   ],
   "source": [
    "!pip install pyproj\n"
   ]
  },
  {
   "cell_type": "code",
   "execution_count": 36,
   "metadata": {},
   "outputs": [
    {
     "name": "stdout",
     "output_type": "stream",
     "text": [
      "Latitude: 40.650002, Longitude: -73.949997\n",
      "Web Mercator X: -8232076.0102041075, Y: 4960853.303490522\n"
     ]
    }
   ],
   "source": [
    "import pyproj\n",
    "\n",
    "# Define the coordinate reference systems\n",
    "wgs84 = pyproj.CRS(\"EPSG:4326\")  # lat/lon\n",
    "web_mercator = pyproj.CRS(\"EPSG:3857\")  # Web Mercator\n",
    "\n",
    "# Convert the latitude and longitude to Web Mercator\n",
    "project = pyproj.Transformer.from_crs(wgs84, web_mercator, always_xy=True)\n"
   ]
  },
  {
   "cell_type": "code",
   "execution_count": 50,
   "metadata": {},
   "outputs": [
    {
     "name": "stderr",
     "output_type": "stream",
     "text": [
      "BokehDeprecationWarning: 'get_provider' was deprecated in Bokeh 3.0.0 and will be removed, use 'add_tile directly' instead.\n"
     ]
    }
   ],
   "source": [
    "from bokeh.plotting import figure, show, output_file\n",
    "from bokeh.tile_providers import get_provider, Vendors\n",
    "from bokeh.models import ColumnDataSource\n",
    "\n",
    "output_file(\"nyc_boroughs_tile.html\")\n",
    "\n",
    "tile_provider = get_provider(Vendors.CARTODBPOSITRON)\n",
    "\n",
    "# range bounds supplied in web mercator coordinates for New York City\n",
    "p = figure(x_range=(-8243000, -8120000), y_range=(4960000, 5070000),\n",
    "           x_axis_type=\"mercator\", y_axis_type=\"mercator\")\n",
    "\n",
    "lat = 40.650002\n",
    "lon = -73.949997\n",
    "x, y = project.transform(lon, lat)\n",
    "source_brooklyn = ColumnDataSource(\n",
    "    data=dict(lat=[y], lon=[x])\n",
    ")\n",
    "\n",
    "lat = 40.8448\n",
    "lon = -73.8648\n",
    "x, y = project.transform(lon, lat)\n",
    "source_bronx = ColumnDataSource(\n",
    "    data=dict(lat=[y], lon=[x])\n",
    ")\n",
    "\n",
    "lat = 40.7831\n",
    "lon = -73.9712\n",
    "x, y = project.transform(lon, lat)\n",
    "source_manhattan = ColumnDataSource(\n",
    "    data=dict(lat=[y], lon=[x])\n",
    ")\n",
    "\n",
    "lat = 40.7282\n",
    "lon = -73.7949\n",
    "x, y = project.transform(lon, lat)\n",
    "source_queens = ColumnDataSource(\n",
    "    data=dict(lat=[y], lon=[x])\n",
    ")\n",
    "\n",
    "lat = 40.5795\n",
    "lon = -74.1502\n",
    "x, y = project.transform(lon, lat)\n",
    "source_staten_island = ColumnDataSource(\n",
    "    data=dict(lat=[y], lon=[x])\n",
    ")\n",
    "\n",
    "p.add_tile(tile_provider)\n",
    "\n",
    "p.circle(x=\"lon\", y=\"lat\", size=70, fill_color=\"blue\", fill_alpha=0.5, source=source_brooklyn)\n",
    "p.circle(x=\"lon\", y=\"lat\", size=70, fill_color=\"red\", fill_alpha=0.5, source=source_bronx)\n",
    "p.circle(x=\"lon\", y=\"lat\", size=70, fill_color=\"green\", fill_alpha=0.5, source=source_manhattan)\n",
    "p.circle(x=\"lon\", y=\"lat\", size=70, fill_color=\"purple\", fill_alpha=0.5, source=source_queens)\n",
    "p.circle(x=\"lon\", y=\"lat\", size=70, fill_color=\"orange\", fill_alpha=0.5, source=source_staten_island)\n",
    "\n",
    "show(p)\n"
   ]
  },
  {
   "cell_type": "code",
   "execution_count": null,
   "metadata": {},
   "outputs": [],
   "source": [
    "def wgs84_to_web_mercator(df, lon=\"LON\", lat=\"LAT\"):\n",
    "\n",
    "      k = 6378137\n",
    "      df[\"x\"] = df[lon] * (k * np.pi/180.0)\n",
    "      df[\"y\"] = np.log(np.tan((90 + df[lat]) * np.pi/360.0)) * k\n",
    "\n",
    "      return df"
   ]
  },
  {
   "cell_type": "code",
   "execution_count": 32,
   "metadata": {},
   "outputs": [
    {
     "name": "stderr",
     "output_type": "stream",
     "text": [
      "BokehDeprecationWarning: 'get_provider' was deprecated in Bokeh 3.0.0 and will be removed, use 'add_tile directly' instead.\n"
     ]
    }
   ],
   "source": [
    "from bokeh.plotting import figure, show, output_file\n",
    "from bokeh.tile_providers import get_provider, Vendors\n",
    "from bokeh.models import ColumnDataSource\n",
    "\n",
    "output_file(\"nyc_boroughs_tile.html\")\n",
    "\n",
    "tile_provider = get_provider(Vendors.CARTODBPOSITRON)\n",
    "\n",
    "# range bounds supplied in web mercator coordinates for New York City\n",
    "p = figure(x_range=(-8242000, -8120000), y_range=(4960000, 5070000),\n",
    "           x_axis_type=\"mercator\", y_axis_type=\"mercator\")\n",
    "\n",
    "# Create a ColumnDataSource for the Empire State Building\n",
    "empire_state_building = {\"lat\": [40.748817], \"lon\": [-73.985428]}\n",
    "source = ColumnDataSource(empire_state_building)\n",
    "\n",
    "# Add the tile and the Empire State Building to the plot\n",
    "p.add_tile(tile_provider)\n",
    "p.circle(x=\"lon\", y=\"lat\", size=15, fill_color=\"red\", fill_alpha=0.8, source=source)\n",
    "\n",
    "show(p)\n"
   ]
  }
 ],
 "metadata": {
  "kernelspec": {
   "display_name": "project",
   "language": "python",
   "name": "python3"
  },
  "language_info": {
   "codemirror_mode": {
    "name": "ipython",
    "version": 3
   },
   "file_extension": ".py",
   "mimetype": "text/x-python",
   "name": "python",
   "nbconvert_exporter": "python",
   "pygments_lexer": "ipython3",
   "version": "3.8.15"
  },
  "orig_nbformat": 4
 },
 "nbformat": 4,
 "nbformat_minor": 2
}
