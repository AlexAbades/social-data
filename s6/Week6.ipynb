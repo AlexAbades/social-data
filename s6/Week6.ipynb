{
 "cells": [
  {
   "cell_type": "markdown",
   "metadata": {},
   "source": [
    "## Intro\n",
    "\n",
    "The purpose of today's class is to explore data using **interactive visualizations**. Interactivity is a key part of modern dataviz. It's a way to allow users of your visualizations get their own feel for the data ... to create richer visualization, where people who use your work can expose more of the data by exploring.\n"
   ]
  },
  {
   "cell_type": "markdown",
   "metadata": {},
   "source": [
    "## Part 1: Video Lectures and Reading\n",
    "\n",
    "Starting this week, we'll be playing around with *explanatory data visualization*. Roughly speaking this means using data visualization to communicate your results to others. Thus, there are new things to think about. \n",
    "\n",
    "Until today we have worked with static data visualization. However, exploratory data analysis means to be able to explore the multi-faceted nature of data and *interactive dataviz* is a handy tool to do it! It allows to play with the data: Toggle the view. Zoom. Drag. Show more details. All those things. Those are a key part of modern data visualization. \n",
    "\n",
    "The video below provides context about these points.\n",
    "\n",
    "We start with the video and then read a bit from a scientific article about types of explanatory dataviz. (*The video is from an old version of the class that used D3, so just ignore those parts.*).\n",
    "\n",
    "[![IMAGE ALT TEXT HERE](https://img.youtube.com/vi/yHKYMGwefso/0.jpg)](https://www.youtube.com/watch?v=yHKYMGwefso)"
   ]
  },
  {
   "attachments": {},
   "cell_type": "markdown",
   "metadata": {},
   "source": [
    "> *Exercises*: Explanatory data visualization\n",
    "> * What are the three key elements to keep in mind when you design an explanatory visualization?\n",
    ">> - Start with a question\n",
    ">> - Allow exploration\n",
    ">> - Know your readers\n",
    "> * In the video I talk about (1) *overview first*,  (2) *zoom and filter*,  (3) *details on demand*. \n",
    ">   - Go online and find a visualization that follows these principles (don't use one from the video). \n",
    ">> ...\n",
    ">   - Explain how your video achieves (1)-(3). It might be useful to use screenshots to illustrate your explanation.\n",
    ">> ...\n",
    "> * Explain in your own words: How is explanatory data analysis different from exploratory data analysis?\n",
    ">> ..."
   ]
  },
  {
   "cell_type": "markdown",
   "metadata": {},
   "source": [
    "## Part 2: Interactive visualizations with Bokeh\n",
    "\n",
    "\n",
    "\n",
    "To really master interactive visualizations, you will need to work with JavaScript, especially [D3](https://d3js.org). Given the limited time available for this class, we can't squeeze that in. But luckily Python has some pretty good options for interactive visualizations. You can find a range of different options [here](https://mode.com/blog/python-interactive-plot-libraries/).\n",
    "\n",
    "Today, we'll explore [`Bokeh`](https://docs.bokeh.org/en/latest/), which provides lots of nice interactive funtionalities to Python. To work with Bokeh, we first set up our system:\n",
    "\n",
    "1. If you haven't installed it yet please do so. You can simply follow [these steps](https://docs.bokeh.org/en/latest/docs/first_steps/installation.html)\n",
    "\n",
    "2. To include Bokeh in your notebooks you can follow the [Bokeh: Using with Jupyter](https://docs.bokeh.org/en/latest/docs/user_guide/output/jupyter.html#jupyter) guide. Come back to this one when you need it\n",
    "\n",
    "3. We aim to give you a gentle start with Bokeh and I am going to include more example code than usual in the follwing.\n",
    "   * **HINT 1**: If you're not an experienced Python user, I recommend going to the [official user's guide](https://docs.bokeh.org/en/latest/docs/user_guide.html#userguide) and working through it. Start by clicking \"Introduction\" in the linked page. That page has a glossary, a section on output methods, stuff on settings, and interfaces that you can scroll through. The next page *Basic Plotting* where the action is. Spend some time working through that.\n",
    "   * **HINT 2**: And by \"working through it\", I mean copy, paste, and run the code in your own notebook. "
   ]
  },
  {
   "cell_type": "markdown",
   "metadata": {},
   "source": [
    "Ok. Let's get started. First a general announcement on the data.\n",
    "\n",
    "> **Announcement**\n",
    "> * During this entire lecture, as always, we are going to work with the SF Crime Data. \n",
    "> * We will use data for the **period 2010-2017***.\n",
    "\n",
    "\n",
    "Now, to get you in the mood here's a little gif to illustrate what the goal of this exercise is:"
   ]
  },
  {
   "cell_type": "markdown",
   "metadata": {},
   "source": [
    "![Movie](https://github.com/suneman/socialdata2023/blob/main/files/week8_1.gif?raw=true)\n",
    "\n",
    "If the gif isn't displaying on your system, you can download it [here](https://github.com/suneman/socialdata2023/blob/main/files/week8_1.gif) and display locally."
   ]
  },
  {
   "cell_type": "markdown",
   "metadata": {},
   "source": [
    "\n",
    "> ***Exercise***: Recreate the results from **Week 2** as an interactive visualisation (shown in the gif). To complete the exercise, follow the steps below to create your own version of the dataviz.\n",
    "\n",
    "### Data prep\n",
    "\n",
    "A key step is to set up the data right. So for this one, we'll be pretty strict about the steps. The workflow is\n",
    "\n",
    "1. Take the data for the period of 2010-2017 and group it by hour-of-the-day.\n",
    "2. We would like to be able to easily compare how the distribution of crimes differ from each other, not absolute numbers, so we will work on *normalized data*:\n",
    "    * To normalise data for within a crime category you simply to devide the count for each hour by the total number of this crime type. (To give a concrete example in the `ASSAULT` category, take the number of assault-counts in 1st hour you should devide by the total number of assaults, then you devide number of assaults in 2nd hour by the total number of assaults and so on)\n",
    "    *  Your life will be easiest if you organize your dataframe as shown in [this helpful screenshot](https://github.com/suneman/socialdata2023/blob/main/files/W6_Part2_data.png).\n",
    "\n",
    "If you've followed these steps, your data should be ready! Take a moment to celebrate. We now follow the [Bokeh guide for categorical data](https://docs.bokeh.org/en/latest/docs/user_guide/basic/bars.html):\n",
    "\n",
    "\n",
    "\n",
    "1. First, let's convert our **Pandas Dataframe** to **Bokeh ColumnDataSource**: \n",
    "  > ```python\n",
    "  > source = ColumnDataSource(your_processed_dataframe)\n",
    "  > ## it is a standard way to convert your df to bokeh\n",
    "  > ```\n",
    "2. We also need to create an empty figure (we will add our stuff here later on). Mini sub-exercise: Find the a guide how to define a figure in Bokeh online. Here is a little help:\n",
    "  > ```python\n",
    "  > p = figure(...., x_range = FactorRange(factors=hours), ...) \n",
    "  > #p is a standard way to call figures in Bokeh\n",
    "  > #make sure to add x_range. In my case hours is a list on the form ['1', '2', '3' ... , '24']\n",
    "  > #read up on the FactorRange in the guide\n",
    "  > #do not forget to add other attributes to the figure, e.g. title, axis names and so on\n",
    "  > ```\n",
    "3. Now we are going to add the bars. In order to do so, we will use **vbar** (see the guide for help):\n",
    "  > ```python\n",
    "  > bar ={} # to store vbars\n",
    "  > ### here we will do a for loop:\n",
    "  > for indx,i in enumerate(focuscrimes):\n",
    "  >     bar[i] = p.vbar(x='name_of_the_column_that_contain_hours',  top=i, source= src, \n",
    "  >                     ### we will create a vbar for each focuscrime\n",
    "  >                     legend_label=i,  muted_alpha=..., muted = ....) \n",
    "  > #i stands for a column that we use, top=y; we are specifying that our numbers comes from column i\n",
    "  > #read up what legend_label, muted and muted_alpha do... you can add more attributes (you HAVE TO)\n",
    "  > ```\n",
    "4. The last thing to do is to make your legend interactive and display the figure:\n",
    "  > ```python\n",
    "  > p.legend.click_policy=\"mute\" ### assigns the click policy (you can try to use ''hide'\n",
    "  > show(p) #displays your plot\n",
    "  > ```\n",
    "5. You will notice that the legend appears in the middle of the figure (and it occludes some of the data). In order to fix this look into [this guide](https://stackoverflow.com/questions/26254619/position-of-the-legend-in-a-bokeh-plot) as a start. Below are some code snippets that you can use to deal with this problem (but read the guide first):\n",
    "  > ```python\n",
    "  > items = [] ### for the custom legend // you need to figure out where to add it\n",
    "  > items.append((i, [bar[i]])) ### figure where to add it\n",
    "  > legend = Legend(items=..., location=.....) ## figure where to add it\n",
    "  > p.add_layout(...., ...) ## figure where to add it\n",
    "  > ### if you read the guide, it will make sense\n",
    "  > ```\n",
    "\n",
    "Now you should be able to recreate this amazing visualisation.\n",
    "\n",
    "\n",
    "**EXTRA feature**: If you're interested in detailed instructions for more Bokeh visualizations for your final project, you can find more inspiration **[here](https://github.com/suneman/socialdata2021/blob/main/lectures/Week8_extra_bokeh.ipynb)**."
   ]
  },
  {
   "cell_type": "code",
   "execution_count": 2,
   "metadata": {},
   "outputs": [],
   "source": [
    "import pandas as pd"
   ]
  },
  {
   "cell_type": "code",
   "execution_count": 8,
   "metadata": {},
   "outputs": [],
   "source": [
    "data = pd.read_csv(\"../Police_Department_Incident_Reports__Historical_2003_to_May_2018.csv\")"
   ]
  },
  {
   "cell_type": "code",
   "execution_count": 9,
   "metadata": {},
   "outputs": [],
   "source": [
    "data['Date'] = pd.to_datetime(data.Date, format='%m/%d/%Y')\n",
    "data['Year'] = data.Date.dt.year\n",
    "\n",
    "data['Time'] = pd.to_datetime(data.Time, format='%H:%M')\n",
    "data['Hour'] = data.Time.dt.hour"
   ]
  },
  {
   "cell_type": "code",
   "execution_count": 10,
   "metadata": {},
   "outputs": [],
   "source": [
    "data['dummy'] = 1"
   ]
  },
  {
   "cell_type": "code",
   "execution_count": 11,
   "metadata": {},
   "outputs": [],
   "source": [
    "data_filter = data[data.Year.isin(range(2010,2018))]\n",
    "df = data_filter[['Category', 'Hour', 'dummy']].groupby(['Category', 'Hour']).count()\n",
    "df = df.rename(columns={\"dummy\": \"count\"})\n",
    "df_count = data_filter[['Category', 'dummy']].groupby(['Category']).sum()\n",
    "df_count = df_count.rename(columns={\"dummy\": \"total_count\"})"
   ]
  },
  {
   "cell_type": "code",
   "execution_count": 12,
   "metadata": {},
   "outputs": [],
   "source": [
    "array = []\n",
    "for idx in df.index:\n",
    "    array.append(df.loc[idx][0]/df_count.loc[idx[0]][0])\n",
    "\n",
    "df['Percent'] = array"
   ]
  },
  {
   "cell_type": "code",
   "execution_count": 13,
   "metadata": {},
   "outputs": [
    {
     "name": "stderr",
     "output_type": "stream",
     "text": [
      "C:\\Users\\carol\\AppData\\Local\\Temp\\ipykernel_11480\\1780286071.py:2: FutureWarning: Passing a set as an indexer is deprecated and will raise in a future version. Use a list instead.\n",
      "  df_processed = df['Percent'].unstack(level=0)[focuscrimes]\n"
     ]
    }
   ],
   "source": [
    "focuscrimes = set(['WEAPON LAWS', 'PROSTITUTION', 'DRIVING UNDER THE INFLUENCE', 'ROBBERY', 'BURGLARY', 'ASSAULT', 'DRUNKENNESS', 'DRUG/NARCOTIC', 'TRESPASS', 'LARCENY/THEFT', 'VANDALISM', 'VEHICLE THEFT', 'STOLEN PROPERTY', 'DISORDERLY CONDUCT'])\n",
    "df_processed = df['Percent'].unstack(level=0)[focuscrimes]"
   ]
  },
  {
   "cell_type": "code",
   "execution_count": 72,
   "metadata": {},
   "outputs": [],
   "source": [
    "from bokeh.models import ColumnDataSource\n",
    "from bokeh.plotting import figure, show\n",
    "from bokeh.models.ranges import FactorRange"
   ]
  },
  {
   "cell_type": "code",
   "execution_count": 39,
   "metadata": {},
   "outputs": [],
   "source": [
    "src = ColumnDataSource(df_processed)\n",
    "hours = [str(h) for h in df_processed.index]\n"
   ]
  },
  {
   "cell_type": "code",
   "execution_count": 40,
   "metadata": {},
   "outputs": [],
   "source": [
    "p = figure(x_range=FactorRange(factors = hours), title=\"Crimes per Hour\", \n",
    "           toolbar_location=None, tools=\"\")"
   ]
  },
  {
   "cell_type": "code",
   "execution_count": 77,
   "metadata": {},
   "outputs": [],
   "source": [
    "bar ={}\n",
    "col = ['lightcoral', 'salmon', 'peachpuff', 'bisque', 'khaki', 'palegreen', 'lightcyan', 'lightskyblue', 'cornflowerblue', 'lavender', 'thistle', 'plum', 'palevioletred', 'lightpink']\n",
    "for indx, i in enumerate(df_processed):\n",
    "\n",
    "    bar[i] = p.vbar(x='Hour',  \n",
    "                    top = i, \n",
    "                    source = src, \n",
    "                    legend_label = i,  \n",
    "                    muted_alpha = 0.05, \n",
    "                    muted = True,\n",
    "                    color = col[indx],\n",
    "                    alpha = 0.2\n",
    "    ) \n",
    "# p.xgrid.grid_line_color = None\n",
    "# p.y_range.start = 0"
   ]
  },
  {
   "cell_type": "code",
   "execution_count": 79,
   "metadata": {},
   "outputs": [
    {
     "name": "stderr",
     "output_type": "stream",
     "text": [
      "ERROR:bokeh.core.validation.check:E-1001 (BAD_COLUMN_NAME): Glyph refers to nonexistent column name. This could either be due to a misspelling or typo, or due to an expected column being missing. : key \"fill_color\" value \"k\", key \"hatch_color\" value \"k\", key \"line_color\" value \"k\" [renderer: GlyphRenderer(id='3532', ...)]\n",
      "ERROR:bokeh.core.validation.check:E-1001 (BAD_COLUMN_NAME): Glyph refers to nonexistent column name. This could either be due to a misspelling or typo, or due to an expected column being missing. : key \"fill_color\" value \"k\", key \"hatch_color\" value \"k\", key \"line_color\" value \"k\" [renderer: GlyphRenderer(id='3206', ...)]\n",
      "ERROR:bokeh.core.validation.check:E-1001 (BAD_COLUMN_NAME): Glyph refers to nonexistent column name. This could either be due to a misspelling or typo, or due to an expected column being missing. : key \"fill_color\" value \"k\", key \"hatch_color\" value \"k\", key \"line_color\" value \"k\" [renderer: GlyphRenderer(id='8622', ...)]\n",
      "ERROR:bokeh.core.validation.check:E-1001 (BAD_COLUMN_NAME): Glyph refers to nonexistent column name. This could either be due to a misspelling or typo, or due to an expected column being missing. : key \"fill_color\" value \"k\", key \"hatch_color\" value \"k\", key \"line_color\" value \"k\" [renderer: GlyphRenderer(id='3565', ...)]\n",
      "ERROR:bokeh.core.validation.check:E-1001 (BAD_COLUMN_NAME): Glyph refers to nonexistent column name. This could either be due to a misspelling or typo, or due to an expected column being missing. : key \"fill_color\" value \"k\", key \"hatch_color\" value \"k\", key \"line_color\" value \"k\" [renderer: GlyphRenderer(id='3222', ...)]\n",
      "ERROR:bokeh.core.validation.check:E-1001 (BAD_COLUMN_NAME): Glyph refers to nonexistent column name. This could either be due to a misspelling or typo, or due to an expected column being missing. : key \"fill_color\" value \"k\", key \"hatch_color\" value \"k\", key \"line_color\" value \"k\" [renderer: GlyphRenderer(id='3598', ...)]\n",
      "ERROR:bokeh.core.validation.check:E-1001 (BAD_COLUMN_NAME): Glyph refers to nonexistent column name. This could either be due to a misspelling or typo, or due to an expected column being missing. : key \"fill_color\" value \"c\", key \"hatch_color\" value \"c\", key \"line_color\" value \"c\" [renderer: GlyphRenderer(id='7985', ...)]\n",
      "ERROR:bokeh.core.validation.check:E-1001 (BAD_COLUMN_NAME): Glyph refers to nonexistent column name. This could either be due to a misspelling or typo, or due to an expected column being missing. : key \"fill_color\" value \"k\", key \"hatch_color\" value \"k\", key \"line_color\" value \"k\" [renderer: GlyphRenderer(id='3334', ...)]\n",
      "ERROR:bokeh.core.validation.check:E-1001 (BAD_COLUMN_NAME): Glyph refers to nonexistent column name. This could either be due to a misspelling or typo, or due to an expected column being missing. : key \"fill_color\" value \"plasma(256)\", key \"hatch_color\" value \"plasma(256)\", key \"line_color\" value \"plasma(256)\" [renderer: GlyphRenderer(id='6853', ...)]\n",
      "ERROR:bokeh.core.validation.check:E-1001 (BAD_COLUMN_NAME): Glyph refers to nonexistent column name. This could either be due to a misspelling or typo, or due to an expected column being missing. : key \"fill_color\" value \"plasma(256)\", key \"hatch_color\" value \"plasma(256)\", key \"line_color\" value \"plasma(256)\" [renderer: GlyphRenderer(id='6886', ...)]\n",
      "ERROR:bokeh.core.validation.check:E-1001 (BAD_COLUMN_NAME): Glyph refers to nonexistent column name. This could either be due to a misspelling or typo, or due to an expected column being missing. : key \"fill_color\" value \"k\", key \"hatch_color\" value \"k\", key \"line_color\" value \"k\" [renderer: GlyphRenderer(id='3350', ...)]\n",
      "ERROR:bokeh.core.validation.check:E-1001 (BAD_COLUMN_NAME): Glyph refers to nonexistent column name. This could either be due to a misspelling or typo, or due to an expected column being missing. : key \"fill_color\" value \"k\", key \"hatch_color\" value \"k\", key \"line_color\" value \"k\" [renderer: GlyphRenderer(id='8051', ...)]\n",
      "ERROR:bokeh.core.validation.check:E-1001 (BAD_COLUMN_NAME): Glyph refers to nonexistent column name. This could either be due to a misspelling or typo, or due to an expected column being missing. : key \"fill_color\" value \"k\", key \"hatch_color\" value \"k\", key \"line_color\" value \"k\" [renderer: GlyphRenderer(id='4027', ...)]\n",
      "ERROR:bokeh.core.validation.check:E-1001 (BAD_COLUMN_NAME): Glyph refers to nonexistent column name. This could either be due to a misspelling or typo, or due to an expected column being missing. : key \"fill_color\" value \"plasma(256)\", key \"hatch_color\" value \"plasma(256)\", key \"line_color\" value \"plasma(256)\" [renderer: GlyphRenderer(id='6919', ...)]\n",
      "ERROR:bokeh.core.validation.check:E-1001 (BAD_COLUMN_NAME): Glyph refers to nonexistent column name. This could either be due to a misspelling or typo, or due to an expected column being missing. : key \"fill_color\" value \"k\", key \"hatch_color\" value \"k\", key \"line_color\" value \"k\" [renderer: GlyphRenderer(id='3366', ...)]\n",
      "ERROR:bokeh.core.validation.check:E-1001 (BAD_COLUMN_NAME): Glyph refers to nonexistent column name. This could either be due to a misspelling or typo, or due to an expected column being missing. : key \"fill_color\" value \"k\", key \"hatch_color\" value \"k\", key \"line_color\" value \"k\" [renderer: GlyphRenderer(id='3286', ...)]\n",
      "ERROR:bokeh.core.validation.check:E-1001 (BAD_COLUMN_NAME): Glyph refers to nonexistent column name. This could either be due to a misspelling or typo, or due to an expected column being missing. : key \"fill_color\" value \"k\", key \"hatch_color\" value \"k\", key \"line_color\" value \"k\" [renderer: GlyphRenderer(id='3382', ...)]\n",
      "ERROR:bokeh.core.validation.check:E-1001 (BAD_COLUMN_NAME): Glyph refers to nonexistent column name. This could either be due to a misspelling or typo, or due to an expected column being missing. : key \"fill_color\" value \"plasma(256)\", key \"hatch_color\" value \"plasma(256)\", key \"line_color\" value \"plasma(256)\" [renderer: GlyphRenderer(id='7183', ...)]\n",
      "ERROR:bokeh.core.validation.check:E-1001 (BAD_COLUMN_NAME): Glyph refers to nonexistent column name. This could either be due to a misspelling or typo, or due to an expected column being missing. : key \"fill_color\" value \"y\", key \"hatch_color\" value \"y\", key \"line_color\" value \"y\" [renderer: GlyphRenderer(id='7952', ...)]\n",
      "ERROR:bokeh.core.validation.check:E-1001 (BAD_COLUMN_NAME): Glyph refers to nonexistent column name. This could either be due to a misspelling or typo, or due to an expected column being missing. : key \"fill_color\" value \"k\", key \"hatch_color\" value \"k\", key \"line_color\" value \"k\" [renderer: GlyphRenderer(id='3302', ...)]\n",
      "ERROR:bokeh.core.validation.check:E-1001 (BAD_COLUMN_NAME): Glyph refers to nonexistent column name. This could either be due to a misspelling or typo, or due to an expected column being missing. : key \"fill_color\" value \"plasma(256)\", key \"hatch_color\" value \"plasma(256)\", key \"line_color\" value \"plasma(256)\" [renderer: GlyphRenderer(id='7216', ...)]\n",
      "ERROR:bokeh.core.validation.check:E-1001 (BAD_COLUMN_NAME): Glyph refers to nonexistent column name. This could either be due to a misspelling or typo, or due to an expected column being missing. : key \"fill_color\" value \"k\", key \"hatch_color\" value \"k\", key \"line_color\" value \"k\" [renderer: GlyphRenderer(id='3398', ...)]\n",
      "ERROR:bokeh.core.validation.check:E-1001 (BAD_COLUMN_NAME): Glyph refers to nonexistent column name. This could either be due to a misspelling or typo, or due to an expected column being missing. : key \"fill_color\" value \"plasma(256)\", key \"hatch_color\" value \"plasma(256)\", key \"line_color\" value \"plasma(256)\" [renderer: GlyphRenderer(id='7249', ...)]\n",
      "ERROR:bokeh.core.validation.check:E-1001 (BAD_COLUMN_NAME): Glyph refers to nonexistent column name. This could either be due to a misspelling or typo, or due to an expected column being missing. : key \"fill_color\" value \"k\", key \"hatch_color\" value \"k\", key \"line_color\" value \"k\" [renderer: GlyphRenderer(id='3318', ...)]\n",
      "ERROR:bokeh.core.validation.check:E-1001 (BAD_COLUMN_NAME): Glyph refers to nonexistent column name. This could either be due to a misspelling or typo, or due to an expected column being missing. : key \"fill_color\" value \"plasma(256)\", key \"hatch_color\" value \"plasma(256)\", key \"line_color\" value \"plasma(256)\" [renderer: GlyphRenderer(id='7282', ...)]\n",
      "ERROR:bokeh.core.validation.check:E-1001 (BAD_COLUMN_NAME): Glyph refers to nonexistent column name. This could either be due to a misspelling or typo, or due to an expected column being missing. : key \"fill_color\" value \"g\", key \"hatch_color\" value \"g\", key \"line_color\" value \"g\" [renderer: GlyphRenderer(id='7919', ...)]\n",
      "ERROR:bokeh.core.validation.check:E-1001 (BAD_COLUMN_NAME): Glyph refers to nonexistent column name. This could either be due to a misspelling or typo, or due to an expected column being missing. : key \"fill_color\" value \"k\", key \"hatch_color\" value \"k\", key \"line_color\" value \"k\" [renderer: GlyphRenderer(id='4555', ...)]\n",
      "ERROR:bokeh.core.validation.check:E-1001 (BAD_COLUMN_NAME): Glyph refers to nonexistent column name. This could either be due to a misspelling or typo, or due to an expected column being missing. : key \"fill_color\" value \"b\", key \"hatch_color\" value \"b\", key \"line_color\" value \"b\" [renderer: GlyphRenderer(id='7886', ...)]\n",
      "ERROR:bokeh.core.validation.check:E-1001 (BAD_COLUMN_NAME): Glyph refers to nonexistent column name. This could either be due to a misspelling or typo, or due to an expected column being missing. : key \"fill_color\" value \"r\", key \"hatch_color\" value \"r\", key \"line_color\" value \"r\" [renderer: GlyphRenderer(id='7853', ...)]\n",
      "ERROR:bokeh.core.validation.check:E-1001 (BAD_COLUMN_NAME): Glyph refers to nonexistent column name. This could either be due to a misspelling or typo, or due to an expected column being missing. : key \"fill_color\" value \"k\", key \"hatch_color\" value \"k\", key \"line_color\" value \"k\" [renderer: GlyphRenderer(id='4522', ...)]\n",
      "ERROR:bokeh.core.validation.check:E-1001 (BAD_COLUMN_NAME): Glyph refers to nonexistent column name. This could either be due to a misspelling or typo, or due to an expected column being missing. : key \"fill_color\" value \"k\", key \"hatch_color\" value \"k\", key \"line_color\" value \"k\" [renderer: GlyphRenderer(id='5151', ...)]\n",
      "ERROR:bokeh.core.validation.check:E-1001 (BAD_COLUMN_NAME): Glyph refers to nonexistent column name. This could either be due to a misspelling or typo, or due to an expected column being missing. : key \"fill_color\" value \"plasma(256)\", key \"hatch_color\" value \"plasma(256)\", key \"line_color\" value \"plasma(256)\" [renderer: GlyphRenderer(id='7084', ...)]\n",
      "ERROR:bokeh.core.validation.check:E-1001 (BAD_COLUMN_NAME): Glyph refers to nonexistent column name. This could either be due to a misspelling or typo, or due to an expected column being missing. : key \"fill_color\" value \"k\", key \"hatch_color\" value \"k\", key \"line_color\" value \"k\" [renderer: GlyphRenderer(id='4126', ...)]\n",
      "ERROR:bokeh.core.validation.check:E-1001 (BAD_COLUMN_NAME): Glyph refers to nonexistent column name. This could either be due to a misspelling or typo, or due to an expected column being missing. : key \"fill_color\" value \"m\", key \"hatch_color\" value \"m\", key \"line_color\" value \"m\" [renderer: GlyphRenderer(id='8018', ...)]\n",
      "ERROR:bokeh.core.validation.check:E-1001 (BAD_COLUMN_NAME): Glyph refers to nonexistent column name. This could either be due to a misspelling or typo, or due to an expected column being missing. : key \"fill_color\" value \"k\", key \"hatch_color\" value \"k\", key \"line_color\" value \"k\" [renderer: GlyphRenderer(id='4588', ...)]\n",
      "ERROR:bokeh.core.validation.check:E-1001 (BAD_COLUMN_NAME): Glyph refers to nonexistent column name. This could either be due to a misspelling or typo, or due to an expected column being missing. : key \"fill_color\" value \"r\", key \"hatch_color\" value \"r\", key \"line_color\" value \"r\" [renderer: GlyphRenderer(id='7721', ...)]\n",
      "ERROR:bokeh.core.validation.check:E-1001 (BAD_COLUMN_NAME): Glyph refers to nonexistent column name. This could either be due to a misspelling or typo, or due to an expected column being missing. : key \"fill_color\" value \"plasma(256)\", key \"hatch_color\" value \"plasma(256)\", key \"line_color\" value \"plasma(256)\" [renderer: GlyphRenderer(id='7117', ...)]\n",
      "ERROR:bokeh.core.validation.check:E-1001 (BAD_COLUMN_NAME): Glyph refers to nonexistent column name. This could either be due to a misspelling or typo, or due to an expected column being missing. : key \"fill_color\" value \"k\", key \"hatch_color\" value \"k\", key \"line_color\" value \"k\" [renderer: GlyphRenderer(id='5184', ...)]\n",
      "ERROR:bokeh.core.validation.check:E-1001 (BAD_COLUMN_NAME): Glyph refers to nonexistent column name. This could either be due to a misspelling or typo, or due to an expected column being missing. : key \"fill_color\" value \"k\", key \"hatch_color\" value \"k\", key \"line_color\" value \"k\" [renderer: GlyphRenderer(id='4159', ...)]\n",
      "ERROR:bokeh.core.validation.check:E-1001 (BAD_COLUMN_NAME): Glyph refers to nonexistent column name. This could either be due to a misspelling or typo, or due to an expected column being missing. : key \"fill_color\" value \"k\", key \"hatch_color\" value \"k\", key \"line_color\" value \"k\" [renderer: GlyphRenderer(id='4456', ...)]\n",
      "ERROR:bokeh.core.validation.check:E-1001 (BAD_COLUMN_NAME): Glyph refers to nonexistent column name. This could either be due to a misspelling or typo, or due to an expected column being missing. : key \"fill_color\" value \"k\", key \"hatch_color\" value \"k\", key \"line_color\" value \"k\" [renderer: GlyphRenderer(id='4489', ...)]\n",
      "ERROR:bokeh.core.validation.check:E-1001 (BAD_COLUMN_NAME): Glyph refers to nonexistent column name. This could either be due to a misspelling or typo, or due to an expected column being missing. : key \"fill_color\" value \"k\", key \"hatch_color\" value \"k\", key \"line_color\" value \"k\" [renderer: GlyphRenderer(id='4621', ...)]\n",
      "ERROR:bokeh.core.validation.check:E-1001 (BAD_COLUMN_NAME): Glyph refers to nonexistent column name. This could either be due to a misspelling or typo, or due to an expected column being missing. : key \"fill_color\" value \"plasma(256)\", key \"hatch_color\" value \"plasma(256)\", key \"line_color\" value \"plasma(256)\" [renderer: GlyphRenderer(id='7150', ...)]\n",
      "ERROR:bokeh.core.validation.check:E-1001 (BAD_COLUMN_NAME): Glyph refers to nonexistent column name. This could either be due to a misspelling or typo, or due to an expected column being missing. : key \"fill_color\" value \"b\", key \"hatch_color\" value \"b\", key \"line_color\" value \"b\" [renderer: GlyphRenderer(id='7754', ...)]\n",
      "ERROR:bokeh.core.validation.check:E-1001 (BAD_COLUMN_NAME): Glyph refers to nonexistent column name. This could either be due to a misspelling or typo, or due to an expected column being missing. : key \"fill_color\" value \"k\", key \"hatch_color\" value \"k\", key \"line_color\" value \"k\" [renderer: GlyphRenderer(id='5217', ...)]\n",
      "ERROR:bokeh.core.validation.check:E-1001 (BAD_COLUMN_NAME): Glyph refers to nonexistent column name. This could either be due to a misspelling or typo, or due to an expected column being missing. : key \"fill_color\" value \"k\", key \"hatch_color\" value \"k\", key \"line_color\" value \"k\" [renderer: GlyphRenderer(id='4654', ...)]\n",
      "ERROR:bokeh.core.validation.check:E-1001 (BAD_COLUMN_NAME): Glyph refers to nonexistent column name. This could either be due to a misspelling or typo, or due to an expected column being missing. : key \"fill_color\" value \"k\", key \"hatch_color\" value \"k\", key \"line_color\" value \"k\" [renderer: GlyphRenderer(id='4192', ...)]\n",
      "ERROR:bokeh.core.validation.check:E-1001 (BAD_COLUMN_NAME): Glyph refers to nonexistent column name. This could either be due to a misspelling or typo, or due to an expected column being missing. : key \"fill_color\" value \"g\", key \"hatch_color\" value \"g\", key \"line_color\" value \"g\" [renderer: GlyphRenderer(id='8490', ...)]\n",
      "ERROR:bokeh.core.validation.check:E-1001 (BAD_COLUMN_NAME): Glyph refers to nonexistent column name. This could either be due to a misspelling or typo, or due to an expected column being missing. : key \"fill_color\" value \"k\", key \"hatch_color\" value \"k\", key \"line_color\" value \"k\" [renderer: GlyphRenderer(id='5019', ...)]\n",
      "ERROR:bokeh.core.validation.check:E-1001 (BAD_COLUMN_NAME): Glyph refers to nonexistent column name. This could either be due to a misspelling or typo, or due to an expected column being missing. : key \"fill_color\" value \"k\", key \"hatch_color\" value \"k\", key \"line_color\" value \"k\" [renderer: GlyphRenderer(id='5250', ...)]\n",
      "ERROR:bokeh.core.validation.check:E-1001 (BAD_COLUMN_NAME): Glyph refers to nonexistent column name. This could either be due to a misspelling or typo, or due to an expected column being missing. : key \"fill_color\" value \"k\", key \"hatch_color\" value \"k\", key \"line_color\" value \"k\" [renderer: GlyphRenderer(id='4687', ...)]\n",
      "ERROR:bokeh.core.validation.check:E-1001 (BAD_COLUMN_NAME): Glyph refers to nonexistent column name. This could either be due to a misspelling or typo, or due to an expected column being missing. : key \"fill_color\" value \"y\", key \"hatch_color\" value \"y\", key \"line_color\" value \"y\" [renderer: GlyphRenderer(id='8523', ...)]\n",
      "ERROR:bokeh.core.validation.check:E-1001 (BAD_COLUMN_NAME): Glyph refers to nonexistent column name. This could either be due to a misspelling or typo, or due to an expected column being missing. : key \"fill_color\" value \"k\", key \"hatch_color\" value \"k\", key \"line_color\" value \"k\" [renderer: GlyphRenderer(id='5283', ...)]\n",
      "ERROR:bokeh.core.validation.check:E-1001 (BAD_COLUMN_NAME): Glyph refers to nonexistent column name. This could either be due to a misspelling or typo, or due to an expected column being missing. : key \"fill_color\" value \"k\", key \"hatch_color\" value \"k\", key \"line_color\" value \"k\" [renderer: GlyphRenderer(id='5052', ...)]\n",
      "ERROR:bokeh.core.validation.check:E-1001 (BAD_COLUMN_NAME): Glyph refers to nonexistent column name. This could either be due to a misspelling or typo, or due to an expected column being missing. : key \"fill_color\" value \"k\", key \"hatch_color\" value \"k\", key \"line_color\" value \"k\" [renderer: GlyphRenderer(id='4720', ...)]\n",
      "ERROR:bokeh.core.validation.check:E-1001 (BAD_COLUMN_NAME): Glyph refers to nonexistent column name. This could either be due to a misspelling or typo, or due to an expected column being missing. : key \"fill_color\" value \"c\", key \"hatch_color\" value \"c\", key \"line_color\" value \"c\" [renderer: GlyphRenderer(id='8556', ...)]\n",
      "ERROR:bokeh.core.validation.check:E-1001 (BAD_COLUMN_NAME): Glyph refers to nonexistent column name. This could either be due to a misspelling or typo, or due to an expected column being missing. : key \"fill_color\" value \"k\", key \"hatch_color\" value \"k\", key \"line_color\" value \"k\" [renderer: GlyphRenderer(id='5085', ...)]\n",
      "ERROR:bokeh.core.validation.check:E-1001 (BAD_COLUMN_NAME): Glyph refers to nonexistent column name. This could either be due to a misspelling or typo, or due to an expected column being missing. : key \"fill_color\" value \"k\", key \"hatch_color\" value \"k\", key \"line_color\" value \"k\" [renderer: GlyphRenderer(id='4753', ...)]\n",
      "ERROR:bokeh.core.validation.check:E-1001 (BAD_COLUMN_NAME): Glyph refers to nonexistent column name. This could either be due to a misspelling or typo, or due to an expected column being missing. : key \"fill_color\" value \"k\", key \"hatch_color\" value \"k\", key \"line_color\" value \"k\" [renderer: GlyphRenderer(id='5316', ...)]\n",
      "ERROR:bokeh.core.validation.check:E-1001 (BAD_COLUMN_NAME): Glyph refers to nonexistent column name. This could either be due to a misspelling or typo, or due to an expected column being missing. : key \"fill_color\" value \"k\", key \"hatch_color\" value \"k\", key \"line_color\" value \"k\" [renderer: GlyphRenderer(id='5349', ...)]\n",
      "ERROR:bokeh.core.validation.check:E-1001 (BAD_COLUMN_NAME): Glyph refers to nonexistent column name. This could either be due to a misspelling or typo, or due to an expected column being missing. : key \"fill_color\" value \"k\", key \"hatch_color\" value \"k\", key \"line_color\" value \"k\" [renderer: GlyphRenderer(id='5118', ...)]\n",
      "ERROR:bokeh.core.validation.check:E-1001 (BAD_COLUMN_NAME): Glyph refers to nonexistent column name. This could either be due to a misspelling or typo, or due to an expected column being missing. : key \"fill_color\" value \"r\", key \"hatch_color\" value \"r\", key \"line_color\" value \"r\" [renderer: GlyphRenderer(id='7424', ...)]\n",
      "ERROR:bokeh.core.validation.check:E-1001 (BAD_COLUMN_NAME): Glyph refers to nonexistent column name. This could either be due to a misspelling or typo, or due to an expected column being missing. : key \"fill_color\" value \"y\", key \"hatch_color\" value \"y\", key \"line_color\" value \"y\" [renderer: GlyphRenderer(id='8249', ...)]\n",
      "ERROR:bokeh.core.validation.check:E-1001 (BAD_COLUMN_NAME): Glyph refers to nonexistent column name. This could either be due to a misspelling or typo, or due to an expected column being missing. : key \"fill_color\" value \"k\", key \"hatch_color\" value \"k\", key \"line_color\" value \"k\" [renderer: GlyphRenderer(id='3189', ...)]\n",
      "ERROR:bokeh.core.validation.check:E-1001 (BAD_COLUMN_NAME): Glyph refers to nonexistent column name. This could either be due to a misspelling or typo, or due to an expected column being missing. : key \"fill_color\" value \"c\", key \"hatch_color\" value \"c\", key \"line_color\" value \"c\" [renderer: GlyphRenderer(id='7556', ...)]\n",
      "ERROR:bokeh.core.validation.check:E-1001 (BAD_COLUMN_NAME): Glyph refers to nonexistent column name. This could either be due to a misspelling or typo, or due to an expected column being missing. : key \"fill_color\" value \"k\", key \"hatch_color\" value \"k\", key \"line_color\" value \"k\" [renderer: GlyphRenderer(id='3862', ...)]\n",
      "ERROR:bokeh.core.validation.check:E-1001 (BAD_COLUMN_NAME): Glyph refers to nonexistent column name. This could either be due to a misspelling or typo, or due to an expected column being missing. : key \"fill_color\" value \"g\", key \"hatch_color\" value \"g\", key \"line_color\" value \"g\" [renderer: GlyphRenderer(id='8216', ...)]\n",
      "ERROR:bokeh.core.validation.check:E-1001 (BAD_COLUMN_NAME): Glyph refers to nonexistent column name. This could either be due to a misspelling or typo, or due to an expected column being missing. : key \"fill_color\" value \"b\", key \"hatch_color\" value \"b\", key \"line_color\" value \"b\" [renderer: GlyphRenderer(id='7457', ...)]\n",
      "ERROR:bokeh.core.validation.check:E-1001 (BAD_COLUMN_NAME): Glyph refers to nonexistent column name. This could either be due to a misspelling or typo, or due to an expected column being missing. : key \"fill_color\" value \"m\", key \"hatch_color\" value \"m\", key \"line_color\" value \"m\" [renderer: GlyphRenderer(id='7589', ...)]\n",
      "ERROR:bokeh.core.validation.check:E-1001 (BAD_COLUMN_NAME): Glyph refers to nonexistent column name. This could either be due to a misspelling or typo, or due to an expected column being missing. : key \"fill_color\" value \"k\", key \"hatch_color\" value \"k\", key \"line_color\" value \"k\" [renderer: GlyphRenderer(id='4093', ...)]\n",
      "ERROR:bokeh.core.validation.check:E-1001 (BAD_COLUMN_NAME): Glyph refers to nonexistent column name. This could either be due to a misspelling or typo, or due to an expected column being missing. : key \"fill_color\" value \"k\", key \"hatch_color\" value \"k\", key \"line_color\" value \"k\" [renderer: GlyphRenderer(id='3895', ...)]\n",
      "ERROR:bokeh.core.validation.check:E-1001 (BAD_COLUMN_NAME): Glyph refers to nonexistent column name. This could either be due to a misspelling or typo, or due to an expected column being missing. : key \"fill_color\" value \"g\", key \"hatch_color\" value \"g\", key \"line_color\" value \"g\" [renderer: GlyphRenderer(id='7490', ...)]\n",
      "ERROR:bokeh.core.validation.check:E-1001 (BAD_COLUMN_NAME): Glyph refers to nonexistent column name. This could either be due to a misspelling or typo, or due to an expected column being missing. : key \"fill_color\" value \"c\", key \"hatch_color\" value \"c\", key \"line_color\" value \"c\" [renderer: GlyphRenderer(id='8282', ...)]\n",
      "ERROR:bokeh.core.validation.check:E-1001 (BAD_COLUMN_NAME): Glyph refers to nonexistent column name. This could either be due to a misspelling or typo, or due to an expected column being missing. : key \"fill_color\" value \"k\", key \"hatch_color\" value \"k\", key \"line_color\" value \"k\" [renderer: GlyphRenderer(id='7622', ...)]\n",
      "ERROR:bokeh.core.validation.check:E-1001 (BAD_COLUMN_NAME): Glyph refers to nonexistent column name. This could either be due to a misspelling or typo, or due to an expected column being missing. : key \"fill_color\" value \"m\", key \"hatch_color\" value \"m\", key \"line_color\" value \"m\" [renderer: GlyphRenderer(id='8589', ...)]\n",
      "ERROR:bokeh.core.validation.check:E-1001 (BAD_COLUMN_NAME): Glyph refers to nonexistent column name. This could either be due to a misspelling or typo, or due to an expected column being missing. : key \"fill_color\" value \"k\", key \"hatch_color\" value \"k\", key \"line_color\" value \"k\" [renderer: GlyphRenderer(id='3994', ...)]\n",
      "ERROR:bokeh.core.validation.check:E-1001 (BAD_COLUMN_NAME): Glyph refers to nonexistent column name. This could either be due to a misspelling or typo, or due to an expected column being missing. : key \"fill_color\" value \"k\", key \"hatch_color\" value \"k\", key \"line_color\" value \"k\" [renderer: GlyphRenderer(id='3928', ...)]\n",
      "ERROR:bokeh.core.validation.check:E-1001 (BAD_COLUMN_NAME): Glyph refers to nonexistent column name. This could either be due to a misspelling or typo, or due to an expected column being missing. : key \"fill_color\" value \"y\", key \"hatch_color\" value \"y\", key \"line_color\" value \"y\" [renderer: GlyphRenderer(id='7523', ...)]\n",
      "ERROR:bokeh.core.validation.check:E-1001 (BAD_COLUMN_NAME): Glyph refers to nonexistent column name. This could either be due to a misspelling or typo, or due to an expected column being missing. : key \"fill_color\" value \"k\", key \"hatch_color\" value \"k\", key \"line_color\" value \"k\" [renderer: GlyphRenderer(id='3961', ...)]\n",
      "ERROR:bokeh.core.validation.check:E-1001 (BAD_COLUMN_NAME): Glyph refers to nonexistent column name. This could either be due to a misspelling or typo, or due to an expected column being missing. : key \"fill_color\" value \"k\", key \"hatch_color\" value \"k\", key \"line_color\" value \"k\" [renderer: GlyphRenderer(id='4060', ...)]\n",
      "ERROR:bokeh.core.validation.check:E-1001 (BAD_COLUMN_NAME): Glyph refers to nonexistent column name. This could either be due to a misspelling or typo, or due to an expected column being missing. : key \"fill_color\" value \"k\", key \"hatch_color\" value \"k\", key \"line_color\" value \"k\" [renderer: GlyphRenderer(id='3631', ...)]\n",
      "ERROR:bokeh.core.validation.check:E-1001 (BAD_COLUMN_NAME): Glyph refers to nonexistent column name. This could either be due to a misspelling or typo, or due to an expected column being missing. : key \"fill_color\" value \"k\", key \"hatch_color\" value \"k\", key \"line_color\" value \"k\" [renderer: GlyphRenderer(id='3238', ...)]\n",
      "ERROR:bokeh.core.validation.check:E-1001 (BAD_COLUMN_NAME): Glyph refers to nonexistent column name. This could either be due to a misspelling or typo, or due to an expected column being missing. : key \"fill_color\" value \"plasma(256)\", key \"hatch_color\" value \"plasma(256)\", key \"line_color\" value \"plasma(256)\" [renderer: GlyphRenderer(id='6952', ...)]\n",
      "ERROR:bokeh.core.validation.check:E-1001 (BAD_COLUMN_NAME): Glyph refers to nonexistent column name. This could either be due to a misspelling or typo, or due to an expected column being missing. : key \"fill_color\" value \"k\", key \"hatch_color\" value \"k\", key \"line_color\" value \"k\" [renderer: GlyphRenderer(id='3763', ...)]\n",
      "ERROR:bokeh.core.validation.check:E-1001 (BAD_COLUMN_NAME): Glyph refers to nonexistent column name. This could either be due to a misspelling or typo, or due to an expected column being missing. : key \"fill_color\" value \"r\", key \"hatch_color\" value \"r\", key \"line_color\" value \"r\" [renderer: GlyphRenderer(id='8721', ...)]\n",
      "ERROR:bokeh.core.validation.check:E-1001 (BAD_COLUMN_NAME): Glyph refers to nonexistent column name. This could either be due to a misspelling or typo, or due to an expected column being missing. : key \"fill_color\" value \"k\", key \"hatch_color\" value \"k\", key \"line_color\" value \"k\" [renderer: GlyphRenderer(id='4920', ...)]\n",
      "ERROR:bokeh.core.validation.check:E-1001 (BAD_COLUMN_NAME): Glyph refers to nonexistent column name. This could either be due to a misspelling or typo, or due to an expected column being missing. : key \"fill_color\" value \"k\", key \"hatch_color\" value \"k\", key \"line_color\" value \"k\" [renderer: GlyphRenderer(id='4357', ...)]\n",
      "ERROR:bokeh.core.validation.check:E-1001 (BAD_COLUMN_NAME): Glyph refers to nonexistent column name. This could either be due to a misspelling or typo, or due to an expected column being missing. : key \"fill_color\" value \"k\", key \"hatch_color\" value \"k\", key \"line_color\" value \"k\" [renderer: GlyphRenderer(id='3664', ...)]\n",
      "ERROR:bokeh.core.validation.check:E-1001 (BAD_COLUMN_NAME): Glyph refers to nonexistent column name. This could either be due to a misspelling or typo, or due to an expected column being missing. : key \"fill_color\" value \"k\", key \"hatch_color\" value \"k\", key \"line_color\" value \"k\" [renderer: GlyphRenderer(id='3254', ...)]\n",
      "ERROR:bokeh.core.validation.check:E-1001 (BAD_COLUMN_NAME): Glyph refers to nonexistent column name. This could either be due to a misspelling or typo, or due to an expected column being missing. : key \"fill_color\" value \"plasma(256)\", key \"hatch_color\" value \"plasma(256)\", key \"line_color\" value \"plasma(256)\" [renderer: GlyphRenderer(id='6985', ...)]\n",
      "ERROR:bokeh.core.validation.check:E-1001 (BAD_COLUMN_NAME): Glyph refers to nonexistent column name. This could either be due to a misspelling or typo, or due to an expected column being missing. : key \"fill_color\" value \"b\", key \"hatch_color\" value \"b\", key \"line_color\" value \"b\" [renderer: GlyphRenderer(id='8754', ...)]\n",
      "ERROR:bokeh.core.validation.check:E-1001 (BAD_COLUMN_NAME): Glyph refers to nonexistent column name. This could either be due to a misspelling or typo, or due to an expected column being missing. : key \"fill_color\" value \"k\", key \"hatch_color\" value \"k\", key \"line_color\" value \"k\" [renderer: GlyphRenderer(id='4953', ...)]\n",
      "ERROR:bokeh.core.validation.check:E-1001 (BAD_COLUMN_NAME): Glyph refers to nonexistent column name. This could either be due to a misspelling or typo, or due to an expected column being missing. : key \"fill_color\" value \"k\", key \"hatch_color\" value \"k\", key \"line_color\" value \"k\" [renderer: GlyphRenderer(id='3796', ...)]\n",
      "ERROR:bokeh.core.validation.check:E-1001 (BAD_COLUMN_NAME): Glyph refers to nonexistent column name. This could either be due to a misspelling or typo, or due to an expected column being missing. : key \"fill_color\" value \"r\", key \"hatch_color\" value \"r\", key \"line_color\" value \"r\" [renderer: GlyphRenderer(id='8150', ...)]\n",
      "ERROR:bokeh.core.validation.check:E-1001 (BAD_COLUMN_NAME): Glyph refers to nonexistent column name. This could either be due to a misspelling or typo, or due to an expected column being missing. : key \"fill_color\" value \"y\", key \"hatch_color\" value \"y\", key \"line_color\" value \"y\" [renderer: GlyphRenderer(id='8820', ...)]\n",
      "ERROR:bokeh.core.validation.check:E-1001 (BAD_COLUMN_NAME): Glyph refers to nonexistent column name. This could either be due to a misspelling or typo, or due to an expected column being missing. : key \"fill_color\" value \"k\", key \"hatch_color\" value \"k\", key \"line_color\" value \"k\" [renderer: GlyphRenderer(id='4390', ...)]\n",
      "ERROR:bokeh.core.validation.check:E-1001 (BAD_COLUMN_NAME): Glyph refers to nonexistent column name. This could either be due to a misspelling or typo, or due to an expected column being missing. : key \"fill_color\" value \"k\", key \"hatch_color\" value \"k\", key \"line_color\" value \"k\" [renderer: GlyphRenderer(id='3697', ...)]\n",
      "ERROR:bokeh.core.validation.check:E-1001 (BAD_COLUMN_NAME): Glyph refers to nonexistent column name. This could either be due to a misspelling or typo, or due to an expected column being missing. : key \"fill_color\" value \"plasma(256)\", key \"hatch_color\" value \"plasma(256)\", key \"line_color\" value \"plasma(256)\" [renderer: GlyphRenderer(id='7018', ...)]\n",
      "ERROR:bokeh.core.validation.check:E-1001 (BAD_COLUMN_NAME): Glyph refers to nonexistent column name. This could either be due to a misspelling or typo, or due to an expected column being missing. : key \"fill_color\" value \"k\", key \"hatch_color\" value \"k\", key \"line_color\" value \"k\" [renderer: GlyphRenderer(id='3270', ...)]\n",
      "ERROR:bokeh.core.validation.check:E-1001 (BAD_COLUMN_NAME): Glyph refers to nonexistent column name. This could either be due to a misspelling or typo, or due to an expected column being missing. : key \"fill_color\" value \"b\", key \"hatch_color\" value \"b\", key \"line_color\" value \"b\" [renderer: GlyphRenderer(id='8183', ...)]\n",
      "ERROR:bokeh.core.validation.check:E-1001 (BAD_COLUMN_NAME): Glyph refers to nonexistent column name. This could either be due to a misspelling or typo, or due to an expected column being missing. : key \"fill_color\" value \"k\", key \"hatch_color\" value \"k\", key \"line_color\" value \"k\" [renderer: GlyphRenderer(id='3829', ...)]\n",
      "ERROR:bokeh.core.validation.check:E-1001 (BAD_COLUMN_NAME): Glyph refers to nonexistent column name. This could either be due to a misspelling or typo, or due to an expected column being missing. : key \"fill_color\" value \"g\", key \"hatch_color\" value \"g\", key \"line_color\" value \"g\" [renderer: GlyphRenderer(id='8787', ...)]\n",
      "ERROR:bokeh.core.validation.check:E-1001 (BAD_COLUMN_NAME): Glyph refers to nonexistent column name. This could either be due to a misspelling or typo, or due to an expected column being missing. : key \"fill_color\" value \"k\", key \"hatch_color\" value \"k\", key \"line_color\" value \"k\" [renderer: GlyphRenderer(id='3730', ...)]\n",
      "ERROR:bokeh.core.validation.check:E-1001 (BAD_COLUMN_NAME): Glyph refers to nonexistent column name. This could either be due to a misspelling or typo, or due to an expected column being missing. : key \"fill_color\" value \"k\", key \"hatch_color\" value \"k\", key \"line_color\" value \"k\" [renderer: GlyphRenderer(id='4986', ...)]\n",
      "ERROR:bokeh.core.validation.check:E-1001 (BAD_COLUMN_NAME): Glyph refers to nonexistent column name. This could either be due to a misspelling or typo, or due to an expected column being missing. : key \"fill_color\" value \"k\", key \"hatch_color\" value \"k\", key \"line_color\" value \"k\" [renderer: GlyphRenderer(id='4423', ...)]\n",
      "ERROR:bokeh.core.validation.check:E-1001 (BAD_COLUMN_NAME): Glyph refers to nonexistent column name. This could either be due to a misspelling or typo, or due to an expected column being missing. : key \"fill_color\" value \"plasma(256)\", key \"hatch_color\" value \"plasma(256)\", key \"line_color\" value \"plasma(256)\" [renderer: GlyphRenderer(id='7051', ...)]\n",
      "ERROR:bokeh.core.validation.check:E-1001 (BAD_COLUMN_NAME): Glyph refers to nonexistent column name. This could either be due to a misspelling or typo, or due to an expected column being missing. : key \"fill_color\" value \"k\", key \"hatch_color\" value \"k\", key \"line_color\" value \"k\" [renderer: GlyphRenderer(id='4786', ...)]\n",
      "ERROR:bokeh.core.validation.check:E-1001 (BAD_COLUMN_NAME): Glyph refers to nonexistent column name. This could either be due to a misspelling or typo, or due to an expected column being missing. : key \"fill_color\" value \"g\", key \"hatch_color\" value \"g\", key \"line_color\" value \"g\" [renderer: GlyphRenderer(id='7787', ...)]\n",
      "ERROR:bokeh.core.validation.check:E-1001 (BAD_COLUMN_NAME): Glyph refers to nonexistent column name. This could either be due to a misspelling or typo, or due to an expected column being missing. : key \"fill_color\" value \"k\", key \"hatch_color\" value \"k\", key \"line_color\" value \"k\" [renderer: GlyphRenderer(id='4324', ...)]\n",
      "ERROR:bokeh.core.validation.check:E-1001 (BAD_COLUMN_NAME): Glyph refers to nonexistent column name. This could either be due to a misspelling or typo, or due to an expected column being missing. : key \"fill_color\" value \"k\", key \"hatch_color\" value \"k\", key \"line_color\" value \"k\" [renderer: GlyphRenderer(id='4225', ...)]\n",
      "ERROR:bokeh.core.validation.check:E-1001 (BAD_COLUMN_NAME): Glyph refers to nonexistent column name. This could either be due to a misspelling or typo, or due to an expected column being missing. : key \"fill_color\" value \"c\", key \"hatch_color\" value \"c\", key \"line_color\" value \"c\" [renderer: GlyphRenderer(id='8853', ...)]\n",
      "ERROR:bokeh.core.validation.check:E-1001 (BAD_COLUMN_NAME): Glyph refers to nonexistent column name. This could either be due to a misspelling or typo, or due to an expected column being missing. : key \"fill_color\" value \"y\", key \"hatch_color\" value \"y\", key \"line_color\" value \"y\" [renderer: GlyphRenderer(id='7820', ...)]\n",
      "ERROR:bokeh.core.validation.check:E-1001 (BAD_COLUMN_NAME): Glyph refers to nonexistent column name. This could either be due to a misspelling or typo, or due to an expected column being missing. : key \"fill_color\" value \"k\", key \"hatch_color\" value \"k\", key \"line_color\" value \"k\" [renderer: GlyphRenderer(id='4819', ...)]\n",
      "ERROR:bokeh.core.validation.check:E-1001 (BAD_COLUMN_NAME): Glyph refers to nonexistent column name. This could either be due to a misspelling or typo, or due to an expected column being missing. : key \"fill_color\" value \"k\", key \"hatch_color\" value \"k\", key \"line_color\" value \"k\" [renderer: GlyphRenderer(id='4258', ...)]\n",
      "ERROR:bokeh.core.validation.check:E-1001 (BAD_COLUMN_NAME): Glyph refers to nonexistent column name. This could either be due to a misspelling or typo, or due to an expected column being missing. : key \"fill_color\" value \"k\", key \"hatch_color\" value \"k\", key \"line_color\" value \"k\" [renderer: GlyphRenderer(id='4852', ...)]\n",
      "ERROR:bokeh.core.validation.check:E-1001 (BAD_COLUMN_NAME): Glyph refers to nonexistent column name. This could either be due to a misspelling or typo, or due to an expected column being missing. : key \"fill_color\" value \"k\", key \"hatch_color\" value \"k\", key \"line_color\" value \"k\" [renderer: GlyphRenderer(id='4291', ...)]\n",
      "ERROR:bokeh.core.validation.check:E-1001 (BAD_COLUMN_NAME): Glyph refers to nonexistent column name. This could either be due to a misspelling or typo, or due to an expected column being missing. : key \"fill_color\" value \"k\", key \"hatch_color\" value \"k\", key \"line_color\" value \"k\" [renderer: GlyphRenderer(id='4885', ...)]\n"
     ]
    }
   ],
   "source": [
    "p.legend.click_policy=\"mute\" \n",
    "show(p)"
   ]
  },
  {
   "cell_type": "code",
   "execution_count": 23,
   "metadata": {},
   "outputs": [],
   "source": [
    "from bokeh.io import curdoc\n",
    "\n",
    "curdoc().clear()"
   ]
  },
  {
   "cell_type": "markdown",
   "metadata": {},
   "source": [
    "## Part 3: Narrative Dataviz\n",
    "\n",
    "Let's finish up with some reading\n",
    "\n",
    "*Reading*: [Narrative Visualization: Telling Stories with Data](http://vis.stanford.edu/files/2010-Narrative-InfoVis.pdf) by Edward Segel and Jeffrey Heer. We'll read section 1-3 today. (And the rest a bit later).\n",
    "\n",
    "When you get to section 3 it's fun to open up the examples mentioned by the authors in a browser and explore them as you read the text. \n",
    "\n",
    "> *Exercise*: Answer a couple of questions about the paper.\n",
    "> \n",
    "> * What is the *Oxford English Dictionary's* defintion of a narrative?\n",
    "> * What is your favorite visualization among the examples in section 3? Explain why in a few words."
   ]
  },
  {
   "cell_type": "code",
   "execution_count": 6,
   "metadata": {},
   "outputs": [],
   "source": [
    "import pandas as pd\n",
    "import numpy as np\n",
    "# !pip install bokeh\n",
    "from bokeh.models import ColumnDataSource\n",
    "from bokeh.plotting import figure, show\n",
    "from bokeh.models.ranges import FactorRange\n",
    "import matplotlib.pyplot as plt"
   ]
  },
  {
   "cell_type": "code",
   "execution_count": 3,
   "metadata": {},
   "outputs": [],
   "source": [
    "data_all = pd.read_csv(\"../data/Police_Department_Incident_Reports__Historical_2003_to_May_2018.csv\") \n",
    "data = (data_all[data_all['Category']=='SEX OFFENSES, FORCIBLE'])"
   ]
  },
  {
   "cell_type": "code",
   "execution_count": 4,
   "metadata": {},
   "outputs": [
    {
     "name": "stderr",
     "output_type": "stream",
     "text": [
      "/tmp/ipykernel_736/1480122957.py:1: SettingWithCopyWarning: \n",
      "A value is trying to be set on a copy of a slice from a DataFrame.\n",
      "Try using .loc[row_indexer,col_indexer] = value instead\n",
      "\n",
      "See the caveats in the documentation: https://pandas.pydata.org/pandas-docs/stable/user_guide/indexing.html#returning-a-view-versus-a-copy\n",
      "  data['Date'] = pd.to_datetime(data.Date, format='%m/%d/%Y')\n",
      "/tmp/ipykernel_736/1480122957.py:2: SettingWithCopyWarning: \n",
      "A value is trying to be set on a copy of a slice from a DataFrame.\n",
      "Try using .loc[row_indexer,col_indexer] = value instead\n",
      "\n",
      "See the caveats in the documentation: https://pandas.pydata.org/pandas-docs/stable/user_guide/indexing.html#returning-a-view-versus-a-copy\n",
      "  data['Year'] = data.Date.dt.year\n",
      "/tmp/ipykernel_736/1480122957.py:3: SettingWithCopyWarning: \n",
      "A value is trying to be set on a copy of a slice from a DataFrame.\n",
      "Try using .loc[row_indexer,col_indexer] = value instead\n",
      "\n",
      "See the caveats in the documentation: https://pandas.pydata.org/pandas-docs/stable/user_guide/indexing.html#returning-a-view-versus-a-copy\n",
      "  data['Time'] = pd.to_datetime(data.Time, format='%H:%M')\n",
      "/tmp/ipykernel_736/1480122957.py:4: SettingWithCopyWarning: \n",
      "A value is trying to be set on a copy of a slice from a DataFrame.\n",
      "Try using .loc[row_indexer,col_indexer] = value instead\n",
      "\n",
      "See the caveats in the documentation: https://pandas.pydata.org/pandas-docs/stable/user_guide/indexing.html#returning-a-view-versus-a-copy\n",
      "  data['Hour'] = data.Time.dt.hour\n",
      "/tmp/ipykernel_736/1480122957.py:5: SettingWithCopyWarning: \n",
      "A value is trying to be set on a copy of a slice from a DataFrame.\n",
      "Try using .loc[row_indexer,col_indexer] = value instead\n",
      "\n",
      "See the caveats in the documentation: https://pandas.pydata.org/pandas-docs/stable/user_guide/indexing.html#returning-a-view-versus-a-copy\n",
      "  data['dummy'] = 1\n",
      "/tmp/ipykernel_736/1480122957.py:6: SettingWithCopyWarning: \n",
      "A value is trying to be set on a copy of a slice from a DataFrame.\n",
      "Try using .loc[row_indexer,col_indexer] = value instead\n",
      "\n",
      "See the caveats in the documentation: https://pandas.pydata.org/pandas-docs/stable/user_guide/indexing.html#returning-a-view-versus-a-copy\n",
      "  data['day_of_week'] = data['Date'].dt.day_name()\n"
     ]
    }
   ],
   "source": [
    "data['Date'] = pd.to_datetime(data.Date, format='%m/%d/%Y')\n",
    "data['Year'] = data.Date.dt.year\n",
    "data['Time'] = pd.to_datetime(data.Time, format='%H:%M')\n",
    "data['Hour'] = data.Time.dt.hour\n",
    "data['dummy'] = 1\n",
    "data['day_of_week'] = data['Date'].dt.day_name()"
   ]
  },
  {
   "cell_type": "code",
   "execution_count": 5,
   "metadata": {},
   "outputs": [],
   "source": [
    "# Filter for the years 210 to 2018\n",
    "data_filter = data[data.Year.isin(range(2010,2018))]\n",
    "df = data_filter[['day_of_week','Hour', 'dummy']].groupby(['day_of_week', 'Hour']).count()"
   ]
  },
  {
   "cell_type": "code",
   "execution_count": null,
   "metadata": {},
   "outputs": [],
   "source": [
    "df = df.rename(columns={\"dummy\": \"count\"})\n",
    "df_count = data_filter[['day_of_week', 'dummy']].groupby(['day_of_week']).sum()\n",
    "df_count = df_count.rename(columns={\"dummy\": \"total_count\"})"
   ]
  },
  {
   "cell_type": "code",
   "execution_count": null,
   "metadata": {},
   "outputs": [],
   "source": [
    "array = []\n",
    "for idx in df.index:\n",
    "    array.append(df.loc[idx][0]/df_count.loc[idx[0]][0])\n",
    "\n",
    "\n",
    "df['Percent'] = array"
   ]
  },
  {
   "cell_type": "code",
   "execution_count": null,
   "metadata": {},
   "outputs": [],
   "source": [
    "df_processed = df['Percent'].unstack(level=0)\n",
    "src = ColumnDataSource(df_processed)\n",
    "hours = [str(h) for h in df_processed.index]"
   ]
  },
  {
   "cell_type": "code",
   "execution_count": null,
   "metadata": {},
   "outputs": [],
   "source": [
    "p = figure(x_range=FactorRange(factors = hours), title=\"Crimes per Day\", \n",
    "           toolbar_location=None, tools=\"\")"
   ]
  },
  {
   "cell_type": "code",
   "execution_count": null,
   "metadata": {},
   "outputs": [],
   "source": [
    "bar ={}\n",
    "col = ['lightcoral', 'salmon', 'peachpuff', 'bisque', 'khaki', 'palegreen', 'lightcyan']  #  'lightskyblue', 'cornflowerblue', 'lavender', 'thistle', 'plum', 'palevioletred', 'lightpink']\n",
    "\n",
    "for indx, i in enumerate(df_processed):\n",
    "\n",
    "    bar[i] = p.vbar(x='Hour',  \n",
    "                    top = i, \n",
    "                    source = src, \n",
    "                    legend_label = i,  \n",
    "                    muted_alpha = 0.05, \n",
    "                    muted = True,\n",
    "                    color = col[indx],\n",
    "                    alpha = 0.2\n",
    "    ) "
   ]
  },
  {
   "cell_type": "code",
   "execution_count": null,
   "metadata": {},
   "outputs": [],
   "source": [
    "p.legend.click_policy=\"mute\" \n",
    "show(p)"
   ]
  },
  {
   "cell_type": "code",
   "execution_count": null,
   "metadata": {},
   "outputs": [],
   "source": []
  }
 ],
 "metadata": {
  "kernelspec": {
   "display_name": "Python 3 (ipykernel)",
   "language": "python",
   "name": "python3"
  },
  "language_info": {
   "codemirror_mode": {
    "name": "ipython",
    "version": 3
   },
   "file_extension": ".py",
   "mimetype": "text/x-python",
   "name": "python",
   "nbconvert_exporter": "python",
   "pygments_lexer": "ipython3",
   "version": "3.8.15"
  }
 },
 "nbformat": 4,
 "nbformat_minor": 4
}
