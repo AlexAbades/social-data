{
 "cells": [
  {
   "cell_type": "markdown",
   "metadata": {},
   "source": [
    "# Part 1"
   ]
  },
  {
   "cell_type": "markdown",
   "metadata": {},
   "source": [
    "**Pearson Correlation:**\n",
    "\n",
    "Is a measurement that indicates how strong two variables are correlated, specifically, the degree of linear association between two variables. It also indicates if they have positive or negative correlation (proportional or inversely proportional). It ranges from -1 to 1, where 1 indicates a perfect positive correlation and -1 a perfect negative correlation. \n",
    "\n",
    "The equation is: \n",
    "\n",
    "$ r = \\frac{N\\sum{XY}-(\\sum{X}\\sum{Y})}{\\sqrt{ [N\\sum{x^2}-(\\sum{x})^2 ][N\\sum{y^2}-(\\sum{y})^2 }]} $\n",
    "\n",
    "And Pearson Correlation might give a wrong lecture on the data correlation if this one has another type of correlation, i.e. Non-linear correlation.\n",
    "Or without going that far, on the other day example, where we had 4 different datasets with the same Pearson correlation. \n"
   ]
  },
  {
   "cell_type": "markdown",
   "metadata": {},
   "source": [
    "**Bar vs Histograms Plots**\n",
    "\n",
    "Bar Charts are visual representations of *Categorical Data*. where each category is represented by a bar which the heigth is proportional to the values it represents. \n",
    "Histograms on the other hand are representations of *numerical data*, where the data is divided into intervals and the proportion of the data that fall into that interval are represented by the height.\n",
    "In the coffee example, we could see that at the first visualisation it had a categorial representation where each country was a category. and the amount of coffee was the height of the category. \n",
    "In the second visual representation, we could see that instead of countries, it had different pre defined categories, where each category represented an ammount of coffee consumption. then the eight of each category was the number of countries that fell inside this consumtion. \n",
    "\n"
   ]
  },
  {
   "cell_type": "markdown",
   "metadata": {},
   "source": [
    "**Right bin-size in the histogram**\n",
    "\n",
    "There are different methods to choose the right amount of bins for a histogram representaytion, some of them are: \n",
    "\n",
    "- Square-root choice: The square root of the number of observations in the data.\n",
    "\n",
    "- Sturges' formula: The logarithm of the number of observations in the data. Eq:  1 + log2(N).  N= num of observations. \n",
    "\n",
    "- Freedman-Diaconis rule: Interquartile range (IQR) of the data. The number of bins is calculated as 2 x IQR / (N)^(1/3), where IQR is the difference between the third quartile and the first quartile of the data, and N is the number of observations in the data."
   ]
  },
  {
   "cell_type": "markdown",
   "metadata": {},
   "source": [
    "# Part 2"
   ]
  },
  {
   "cell_type": "markdown",
   "metadata": {},
   "source": [
    "**Jitter Plot**\n",
    "\n",
    "The jitter plot basicaaly shifts each point of the data set a random ammount so 2 points that have the same value, and thus, the point's won't lay in the same posistion and we could see how many points have a specific value. \n",
    "\n",
    "**Figure 2-3**\n",
    "\n",
    "The figure in 2-3 explains the importance of how where we place the first bin on the histogram and the width of them can change the visual representation that we can get of them.\n",
    "\n",
    "**When can KDE be misleading?**\n",
    "\n",
    "There are some handicaps when trying to plot data with KDE.\n",
    "\n",
    "- Sensitive to the choice of bandwidth: The bandwidth parameter controls the degree of smoothing in the density estimate. If the bandwidth is too small, the estimate can be too noisy, and if it is too large, the estimate can be oversmoothed and miss important features of the data. Selecting an appropriate bandwidth is crucial, and different methods exist to estimate it.\n",
    "\n",
    "- Difficulty in interpreting modes and tails: The modes or peaks in the density plot can be difficult to interpret, particularly if they are close together. Also, the tails of the density plot may not be accurate, particularly if there are few data points in those regions.\n",
    "\n",
    "- Not suitable for high-dimensional data: Kernel density estimation becomes computationally expensive in high-dimensional spaces, and requires a large amount of data to achieve reliable estimates. In such cases, other visualization techniques may be more appropriate.\n",
    "\n",
    "**Intuitivity of CDF**\n",
    "Cumulative density plots are less intuitive in the sense that you cannot get an exact picture of what's going on by just looking at the plot. While with bar plots and kernel distributions we can get an exact number of what are we aiming for. If we are interested in how probable is a specific event, a CDF won't clarify that. \n",
    "The point here is that each plot has a specific meaning, so depending on what we want to represent we can use one or another. \n",
    "\n",
    "**Quantile Plot and Probability plot** \n",
    "A quantile plot, also known as a probability plot, is the inverse of the cumulative distribution. It's basically used to check whether a probability distribution follows a specific distribution ot not. \n",
    "The most used case is to check if a specific distribution follows a gaussian distribution, as the inverse of the gaussian CDF it's a straight line, all the points that fall outside the straigth line will not follow a gaussian distribution. \n",
    "\n",
    "**Median, Mean and related summaries** \n",
    "When using the mean, median, or related measurements we can get a bad overview from the dataset as they could lead to misleading assumptions. \n",
    "Example; Categorical data with 3 values: 10, 20, 30.\n",
    "We have 20 points with values 1 and 3, 10 each. and 20 points on value 2. when calculating the mean, we'll obtain the value of 20, when caclculating the median, we'll also obtain the value of 20, we could think that we have a gaussian distribution while we are truly dealing with categorical data. \n",
    "\n",
    "**Box Plots** \n",
    "- Want to identify central tendencies. \n",
    "- Box Plots are useful when dealing with categorical data and we want to visualize the distributions of the different categories (also when we want to compare distributions from different datasets)\n",
    "- When we want identify potential outliers. \n",
    "- Displaying statistic summary like median, mean, quartiles... \n",
    "\n",
    "\n",
    "**Violin Plots** \n",
    "Violin plots displays the density distribution of the data by showing the density curve. They could be better when we know that our data follows a gaussian distibution and we want to get more insights on which kind of distributions they have. In general, we could also see the distributions in box plots, but we can get some visual support to double check our assumptions, as somtimes the statistical measurements could lead to misleadings. \n",
    "\n",
    "**Box plots vs Violin Plots** \n",
    "Violin plots can be more helpful to understand the data, as we said in the last point, as box plots are a visualization of statistical summary measurements, they coud lead to a misleading. Really different datasets can have same statistical summary mesurements which will have same box plot respresetnations. \n"
   ]
  },
  {
   "cell_type": "markdown",
   "metadata": {},
   "source": [
    "# Part 3"
   ]
  },
  {
   "cell_type": "code",
   "execution_count": 1,
   "metadata": {},
   "outputs": [],
   "source": [
    "import pandas as pd\n",
    "import numpy as np \n",
    "import matplotlib.pyplot as plt\n",
    "import seaborn as sns "
   ]
  },
  {
   "cell_type": "code",
   "execution_count": 3,
   "metadata": {},
   "outputs": [],
   "source": [
    "df = pd.read_csv(\"../data/Police_Department_Incident_Reports__Historical_2003_to_May_2018.csv\", index_col=False)"
   ]
  },
  {
   "cell_type": "code",
   "execution_count": 4,
   "metadata": {},
   "outputs": [],
   "source": [
    "# choose one Crime Category \n",
    "cat = 'DRUG/NARCOTIC'\n",
    "df_tmp = df[df.Category==cat][['PdId', 'Date', 'Time']]"
   ]
  },
  {
   "cell_type": "code",
   "execution_count": 5,
   "metadata": {},
   "outputs": [],
   "source": [
    "# convert Date column into a datetime object. \n",
    "df_tmp['Date'] = pd.to_datetime(df_tmp['Date'], format=\"%m/%d/%Y\")"
   ]
  },
  {
   "cell_type": "code",
   "execution_count": 6,
   "metadata": {},
   "outputs": [],
   "source": [
    "from datetime import datetime\n",
    "# Set the initial and final Date Time \n",
    "start = datetime.strptime('01/01/2006', \"%m/%d/%Y\")\n",
    "end = datetime.strptime('02/01/2006', \"%m/%d/%Y\")"
   ]
  },
  {
   "cell_type": "code",
   "execution_count": 7,
   "metadata": {},
   "outputs": [],
   "source": [
    "# Filter by date time and hour\n",
    "df_def = df_tmp[(df_tmp.Date>start)&(df_tmp.Date<end)&(df_tmp.Time>'13:00')&(df_tmp.Time<='14:00')].sort_values('Time')"
   ]
  },
  {
   "cell_type": "code",
   "execution_count": 8,
   "metadata": {},
   "outputs": [],
   "source": [
    "# Create a scatter plot jitter plot\n",
    "normal = np.ones(len(df_def))+1\n",
    "jitter = np.random.uniform(0, 1, size=len(df_def))"
   ]
  },
  {
   "cell_type": "code",
   "execution_count": 9,
   "metadata": {},
   "outputs": [
    {
     "data": {
      "image/png": "[encoded data removed]",
      "text/plain": [
       "<Figure size 432x288 with 1 Axes>"
      ]
     },
     "metadata": {
      "needs_background": "light"
     },
     "output_type": "display_data"
    }
   ],
   "source": [
    "np.random.seed(0)\n",
    "plt.scatter(df_def.Time, normal, marker=\"x\", linewidths=0.5, c='gray')\n",
    "plt.scatter(df_def.Time, jitter, \n",
    "            s=50,\n",
    "            facecolors='none',\n",
    "            edgecolors='b',\n",
    "            linewidths=1)\n",
    "plt.scatter(df_def.Time, jitter, \n",
    "            s=0.5,\n",
    "            c='b')\n",
    "plt.xticks(rotation=45, ha='right')\n",
    "ax = plt.gca()\n",
    "ax.get_yaxis().set_visible(False)\n",
    "plt.show()\n"
   ]
  },
  {
   "cell_type": "code",
   "execution_count": 10,
   "metadata": {},
   "outputs": [
    {
     "data": {
      "text/plain": [
       "Index(['PdId', 'IncidntNum', 'Incident Code', 'Category', 'Descript',\n",
       "       'DayOfWeek', 'Date', 'Time', 'PdDistrict', 'Resolution', 'Address', 'X',\n",
       "       'Y', 'location', 'SF Find Neighborhoods 2 2',\n",
       "       'Current Police Districts 2 2', 'Current Supervisor Districts 2 2',\n",
       "       'Analysis Neighborhoods 2 2', 'DELETE - Fire Prevention Districts 2 2',\n",
       "       'DELETE - Police Districts 2 2', 'DELETE - Supervisor Districts 2 2',\n",
       "       'DELETE - Zip Codes 2 2', 'DELETE - Neighborhoods 2 2',\n",
       "       'DELETE - 2017 Fix It Zones 2 2',\n",
       "       'Civic Center Harm Reduction Project Boundary 2 2',\n",
       "       'Fix It Zones as of 2017-11-06  2 2', 'DELETE - HSOC Zones 2 2',\n",
       "       'Fix It Zones as of 2018-02-07 2 2',\n",
       "       'CBD, BID and GBD Boundaries as of 2017 2 2',\n",
       "       'Areas of Vulnerability, 2016 2 2',\n",
       "       'Central Market/Tenderloin Boundary 2 2',\n",
       "       'Central Market/Tenderloin Boundary Polygon - Updated 2 2',\n",
       "       'HSOC Zones as of 2018-06-05 2 2', 'OWED Public Spaces 2 2',\n",
       "       'Neighborhoods 2'],\n",
       "      dtype='object')"
      ]
     },
     "execution_count": 10,
     "metadata": {},
     "output_type": "execute_result"
    }
   ],
   "source": [
    "df.columns"
   ]
  },
  {
   "cell_type": "code",
   "execution_count": 11,
   "metadata": {},
   "outputs": [],
   "source": [
    "cats = [cat, 'ASSAULT']\n",
    "df_tmp = df[df.Category.isin(cats)]"
   ]
  },
  {
   "cell_type": "code",
   "execution_count": 12,
   "metadata": {},
   "outputs": [
    {
     "name": "stderr",
     "output_type": "stream",
     "text": [
      "C:\\ProgramData\\Anaconda3\\lib\\site-packages\\ipykernel_launcher.py:2: SettingWithCopyWarning: \n",
      "A value is trying to be set on a copy of a slice from a DataFrame.\n",
      "Try using .loc[row_indexer,col_indexer] = value instead\n",
      "\n",
      "See the caveats in the documentation: http://pandas.pydata.org/pandas-docs/stable/user_guide/indexing.html#returning-a-view-versus-a-copy\n",
      "  \n"
     ]
    }
   ],
   "source": [
    "from datetime import datetime\n",
    "df_tmp['Date'] = pd.to_datetime(df_tmp['Date'], format=\"%m/%d/%Y\")\n",
    "# Set the initial and final Date Time \n",
    "start = datetime.strptime('01/01/2006', \"%m/%d/%Y\")\n",
    "end = datetime.strptime('04/01/2006', \"%m/%d/%Y\")\n",
    "df_lat = df_tmp[(df_tmp.Date>start)&(df_tmp.Date<end)&(df_tmp.Time>'10:00')&(df_tmp.Time<='20:00')].sort_values('Time')"
   ]
  },
  {
   "cell_type": "code",
   "execution_count": 13,
   "metadata": {},
   "outputs": [
    {
     "data": {
      "text/plain": [
       "<matplotlib.axes._subplots.AxesSubplot at 0x1862bc32d48>"
      ]
     },
     "execution_count": 13,
     "metadata": {},
     "output_type": "execute_result"
    },
    {
     "data": {
      "image/png": "[encoded data removed]",
      "text/plain": [
       "<Figure size 432x288 with 1 Axes>"
      ]
     },
     "metadata": {
      "needs_background": "light"
     },
     "output_type": "display_data"
    }
   ],
   "source": [
    "df_lat['X'].hist(bins=50)"
   ]
  },
  {
   "cell_type": "code",
   "execution_count": 19,
   "metadata": {},
   "outputs": [
    {
     "data": {
      "text/plain": [
       "str"
      ]
     },
     "execution_count": 19,
     "metadata": {},
     "output_type": "execute_result"
    }
   ],
   "source": [
    "type(df_def['Time'][1727398])"
   ]
  },
  {
   "cell_type": "code",
   "execution_count": 21,
   "metadata": {},
   "outputs": [],
   "source": [
    "df_def['Time'] = pd.to_datetime(df_def['Time'], format= '%H:%M' ).dt.time"
   ]
  },
  {
   "cell_type": "code",
   "execution_count": 45,
   "metadata": {},
   "outputs": [],
   "source": [
    "val = []\n",
    "for idx in df_def['Time']:\n",
    "    val.append(idx.minute)"
   ]
  },
  {
   "cell_type": "code",
   "execution_count": 46,
   "metadata": {},
   "outputs": [
    {
     "data": {
      "text/plain": [
       "<matplotlib.axes._subplots.AxesSubplot at 0x18631a6e7c8>"
      ]
     },
     "execution_count": 46,
     "metadata": {},
     "output_type": "execute_result"
    },
    {
     "data": {
      "image/png": "[encoded data removed]",
      "text/plain": [
       "<Figure size 432x288 with 1 Axes>"
      ]
     },
     "metadata": {
      "needs_background": "light"
     },
     "output_type": "display_data"
    }
   ],
   "source": [
    "sns.kdeplot(np.array(val), bw=0.5)"
   ]
  },
  {
   "cell_type": "code",
   "execution_count": 47,
   "metadata": {},
   "outputs": [],
   "source": [
    "df_lat['Time'] = pd.to_datetime(df_lat['Time'], format= '%H:%M' ).dt.time\n",
    "\n",
    "val = []\n",
    "for idx in df_lat.sample(n=25)['Time']:\n",
    "    val.append(idx.minute)\n",
    "\n"
   ]
  },
  {
   "cell_type": "code",
   "execution_count": 48,
   "metadata": {},
   "outputs": [
    {
     "data": {
      "text/plain": [
       "<matplotlib.axes._subplots.AxesSubplot at 0x18631abfd08>"
      ]
     },
     "execution_count": 48,
     "metadata": {},
     "output_type": "execute_result"
    },
    {
     "data": {
      "image/png": "[encoded data removed]",
      "text/plain": [
       "<Figure size 432x288 with 1 Axes>"
      ]
     },
     "metadata": {
      "needs_background": "light"
     },
     "output_type": "display_data"
    }
   ],
   "source": [
    "sns.kdeplot(np.array(val2), bw=0.5)"
   ]
  },
  {
   "cell_type": "code",
   "execution_count": null,
   "metadata": {},
   "outputs": [],
   "source": []
  },
  {
   "cell_type": "code",
   "execution_count": null,
   "metadata": {},
   "outputs": [],
   "source": []
  }
 ],
 "metadata": {
  "kernelspec": {
   "display_name": "project",
   "language": "python",
   "name": "python3"
  },
  "language_info": {
   "codemirror_mode": {
    "name": "ipython",
    "version": 3
   },
   "file_extension": ".py",
   "mimetype": "text/x-python",
   "name": "python",
   "nbconvert_exporter": "python",
   "pygments_lexer": "ipython3",
   "version": "3.8.15"
  },
  "vscode": {
   "interpreter": {
    "hash": "d76915faa2f353d57a3d07fc38d704b6ca098cc76dd6ceb217346759ebe8b633"
   }
  }
 },
 "nbformat": 4,
 "nbformat_minor": 2
}
