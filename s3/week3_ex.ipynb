{
 "cells": [
  {
   "cell_type": "markdown",
   "metadata": {},
   "source": [
    "# Part 1"
   ]
  },
  {
   "cell_type": "markdown",
   "metadata": {},
   "source": [
    "**Pearson Correlation:**\n",
    "\n",
    "Is a measurement that indicates how strong two variables are correlated, specifically, the degree of linear association between two variables. It also indicates if they have positive or negative correlation (proportional or inversely proportional). It ranges from -1 to 1, where 1 indicates a perfect positive correlation and -1 a perfect negative correlation. \n",
    "\n",
    "The equation is: \n",
    "\n",
    "$ r = \\frac{N\\sum{XY}-(\\sum{X}\\sum{Y})}{\\sqrt{ [N\\sum{x^2}-(\\sum{x})^2 ][N\\sum{y^2}-(\\sum{y})^2 }]} $\n",
    "\n",
    "And Pearson Correlation might give a wrong lecture on the data correlation if this one has another type of correlation, i.e. Non-linear correlation.\n",
    "Or without going that far, on the other day example, where we had 4 different datasets with the same Pearson correlation. \n"
   ]
  },
  {
   "cell_type": "markdown",
   "metadata": {},
   "source": [
    "**Bar vs Histograms Plots**\n",
    "\n",
    "Bar Charts are visual representations of *Categorical Data*. where each category is represented by a bar which the heigth is proportional to the values it represents. \n",
    "Histograms on the other hand are representations of *numerical data*, where the data is divided into intervals and the proportion of the data that fall into that interval are represented by the height.\n",
    "In the coffee example, we could see that at the first visualisation it had a categorial representation where each country was a category. and the amount of coffee was the height of the category. \n",
    "In the second visual representation, we could see that instead of countries, it had different pre defined categories, where each category represented an ammount of coffee consumption. then the eight of each category was the number of countries that fell inside this consumtion. \n",
    "\n"
   ]
  },
  {
   "cell_type": "markdown",
   "metadata": {},
   "source": [
    "**Right bin-size in the histogram**\n",
    "\n",
    "There are different methods to choose the right amount of bins for a histogram representaytion, some of them are: \n",
    "\n",
    "- Square-root choice: The square root of the number of observations in the data.\n",
    "\n",
    "- Sturges' formula: The logarithm of the number of observations in the data. Eq:  1 + log2(N).  N= num of observations. \n",
    "\n",
    "- Freedman-Diaconis rule: Interquartile range (IQR) of the data. The number of bins is calculated as 2 x IQR / (N)^(1/3), where IQR is the difference between the third quartile and the first quartile of the data, and N is the number of observations in the data."
   ]
  },
  {
   "cell_type": "markdown",
   "metadata": {},
   "source": [
    "# Part 2"
   ]
  },
  {
   "cell_type": "markdown",
   "metadata": {},
   "source": [
    "**Jitter Plot**\n",
    "\n",
    "The jitter plot basicaaly shifts each point of the data set a random ammount so 2 points that have the same value, and thus, the point's won't lay in the same posistion and we could see how many points have a specific value. \n",
    "\n",
    "**Figure 2-3**\n",
    "\n",
    "The figure in 2-3 explains the importance of how where we place the first bin on the histogram and the width of them can change the visual representation that we can get of them.\n",
    "\n",
    "\n"
   ]
  },
  {
   "cell_type": "markdown",
   "metadata": {},
   "source": []
  }
 ],
 "metadata": {
  "interpreter": {
   "hash": "b3ba2566441a7c06988d0923437866b63cedc61552a5af99d1f4fb67d367b25f"
  },
  "kernelspec": {
   "display_name": "Python 3.7.4 64-bit ('base': conda)",
   "language": "python",
   "name": "python3"
  },
  "language_info": {
   "codemirror_mode": {
    "name": "ipython",
    "version": 3
   },
   "file_extension": ".py",
   "mimetype": "text/x-python",
   "name": "python",
   "nbconvert_exporter": "python",
   "pygments_lexer": "ipython3",
   "version": "3.7.4"
  },
  "orig_nbformat": 4
 },
 "nbformat": 4,
 "nbformat_minor": 2
}
